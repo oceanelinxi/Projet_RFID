{
 "cells": [
  {
   "cell_type": "code",
   "execution_count": null,
   "id": "be825feb-1edd-428c-bf9e-f29cf9e64197",
   "metadata": {},
   "outputs": [],
   "source": []
  },
  {
   "cell_type": "code",
   "execution_count": 81,
   "id": "fb88fa35-1fab-4f30-8c4b-d787ea1ac6ba",
   "metadata": {
    "tags": []
   },
   "outputs": [],
   "source": [
    "import pandas as pd\n",
    "import numpy as np\n",
    "import matplotlib.pyplot as plt\n",
    "from datetime import datetime"
   ]
  },
  {
   "cell_type": "code",
   "execution_count": 57,
   "id": "ba93634e-e8d3-4b65-9729-9bc7022bc245",
   "metadata": {},
   "outputs": [],
   "source": [
    "from sklearn.model_selection import train_test_split, GridSearchCV, validation_curve, cross_val_score\n",
    "from sklearn.preprocessing import LabelEncoder"
   ]
  },
  {
   "cell_type": "code",
   "execution_count": 28,
   "id": "2984f6b0-b280-4596-9f2f-9dfc47d0a5a6",
   "metadata": {
    "tags": []
   },
   "outputs": [],
   "source": [
    "from sklearn.ensemble import RandomForestClassifier\n",
    "from sklearn.svm import SVC\n",
    "from sklearn.neighbors import KNeighborsClassifier"
   ]
  },
  {
   "cell_type": "code",
   "execution_count": 64,
   "id": "9027dddc-11dd-4b83-86d8-7cb88e4ecc10",
   "metadata": {
    "tags": []
   },
   "outputs": [],
   "source": [
    "import os\n",
    "\n",
    "def pretraitement_knn():\n",
    "    start_time = datetime.now()\n",
    "    pathfile = r'data_anonymous/'\n",
    "\n",
    "    # reflist: list of epc in each box\n",
    "    reflist = pd.DataFrame()\n",
    "    # \n",
    "    files=os.listdir(pathfile)\n",
    "    for file in files:\n",
    "        if file.startswith('reflist_'):\n",
    "            temp=pd.read_csv(os.path.join(pathfile,file),sep=',').reset_index(drop=True)[['Epc']]\n",
    "            temp['refListId']=file.split('.')[0]\n",
    "            reflist = pd.concat([reflist, temp], axis = 0)\n",
    "            #reflist=reflist.append(temp)\n",
    "    reflist=reflist.rename(columns = {'refListId':'refListId_actual'})\n",
    "    reflist['refListId_actual'] = reflist['refListId_actual'].apply(lambda x:int(x[8:]))\n",
    "\n",
    "    Q_refListId_actual=reflist.groupby('refListId_actual')['Epc'].nunique().rename('Q refListId_actual').reset_index(drop=False)\n",
    "    reflist=pd.merge(reflist,Q_refListId_actual,on='refListId_actual',how='left')\n",
    "    \n",
    "    df=pd.DataFrame()\n",
    "    # \n",
    "    #files=os.listdir(pathfile)\n",
    "    for file in files:\n",
    "        if file.startswith('ano_APTags'):\n",
    "       \n",
    "            temp=pd.read_csv(os.path.join(pathfile,file),sep=',')\n",
    "            df= pd.concat([df, temp], axis = 0)\n",
    "    df['LogTime'] = pd.to_datetime (df['LogTime'] ,format='%Y-%m-%d-%H:%M:%S') \n",
    "    df['TimeStamp'] = df['TimeStamp'].astype(float)\n",
    "    df['Rssi'] = df['Rssi'].astype(float)\n",
    "    df=df.drop(['Reader','EmitPower','Frequency'],axis=1).reset_index(drop=True)\n",
    "    df=df[['LogTime', 'Epc', 'Rssi', 'Ant']]\n",
    "    # antennas 1 and 2 are facing the box when photocell in/out \n",
    "    Ant_loc=pd.DataFrame({'Ant':[1,2,3,4],'loc':['in','in','out','out']})\n",
    "    df=pd.merge(df,Ant_loc,on=['Ant'])\n",
    "    df=df.sort_values('LogTime').reset_index(drop=True)\n",
    "\n",
    "    tags = df\n",
    "\n",
    "        # timing: photocells a time window for each box: start/stop (ciuchStart, ciuchStop)\n",
    "    file=r'ano_supply-process.2019-11-07-CUT.csv'\n",
    "    timing=pd.read_csv(os.path.join(pathfile,file),sep=',')\n",
    "    timing['file']=file\n",
    "    timing['date']=pd.to_datetime(timing['date'],format='%d/%m/%Y %H:%M:%S,%f')\n",
    "    timing['ciuchStart']=pd.to_datetime(timing['ciuchStart'],format='%d/%m/%Y %H:%M:%S,%f')\n",
    "    timing['ciuchStop']=pd.to_datetime(timing['ciuchStop'],format='%d/%m/%Y %H:%M:%S,%f')\n",
    "    timing['timestampStart']=timing['timestampStart'].astype(float)\n",
    "    timing['timestampStop']=timing['timestampStop'].astype(float)\n",
    "    timing=timing.sort_values('date')\n",
    "    timing.loc[:,'refListId']=timing.loc[:,'refListId'].apply(lambda x:int(x[8:]))\n",
    "    timing=timing[['refListId', 'ciuchStart', 'ciuchStop']]\n",
    "    \n",
    "    \n",
    "        # ciuchStart_up starts upstream ciuchStart, half way in between the previous stop and the actual start\n",
    "    timing[['ciuchStop_last']]=timing[['ciuchStop']].shift(1)\n",
    "    timing[['refListId_last']]=timing[['refListId']].shift(1)\n",
    "    timing['ciuchStartup']=timing['ciuchStart'] - (timing['ciuchStart'] - timing['ciuchStop_last'])/2\n",
    "    # timing start: 10sec before timing\n",
    "    timing.loc[0,'refListId_last']=timing.loc[0,'refListId']\n",
    "    timing.loc[0,'ciuchStartup']=timing.loc[0,'ciuchStart']-datetime.timedelta(seconds=10)\n",
    "    timing.loc[0,'ciuchStop_last']=timing.loc[0,'ciuchStartup']-datetime.timedelta(seconds=10)\n",
    "    timing['refListId_last']=timing['refListId_last'].astype(int)\n",
    "    # \n",
    "    timing['ciuchStopdown']= timing['ciuchStartup'].shift(-1)\n",
    "    timing.loc[len(timing)-1,'ciuchStopdown']=timing.loc[len(timing)-1,'ciuchStop']+datetime.timedelta(seconds=10)\n",
    "    timing=timing[['refListId', 'refListId_last','ciuchStartup', 'ciuchStart','ciuchStop','ciuchStopdown']]\n",
    "    \n",
    "    \n",
    "        # t0_run = a new run starts when box 0 shows up\n",
    "    t0_run=timing[timing['refListId']==0] [['ciuchStartup']]\n",
    "    t0_run=t0_run.rename(columns={'ciuchStartup':'t0_run'})\n",
    "    t0_run=t0_run.groupby('t0_run').size().cumsum().rename('run').reset_index(drop=False)\n",
    "    t0_run=t0_run.sort_values('t0_run')\n",
    "    # \n",
    "    # each row in timing is merged with a last row in t0_run where t0_run (ciuchstart) <= timing (ciuchstart)\n",
    "    timing=pd.merge_asof(timing,t0_run,left_on='ciuchStartup',right_on='t0_run', direction='backward')\n",
    "    timing=timing.sort_values('ciuchStop')\n",
    "    timing=timing[['run', 'refListId', 'refListId_last', 'ciuchStartup','ciuchStart','ciuchStop','ciuchStopdown','t0_run']]\n",
    "\n",
    "    \n",
    "    slices = pd.DataFrame()\n",
    "    for i, row in timing.iterrows():\n",
    "        ciuchStartup = row['ciuchStartup']\n",
    "        ciuchStart = row['ciuchStart']\n",
    "        ciuchStop = row['ciuchStop']\n",
    "        ciuchStopdown = row['ciuchStopdown']\n",
    "        steps = 3\n",
    "\n",
    "        # Cr�ation des tranches \"up\"\n",
    "        up = pd.DataFrame(index=pd.date_range(start=ciuchStartup, end=ciuchStart, periods=steps)) \\\n",
    "            .reset_index(drop=False).rename(columns={'index': 'slice'})\n",
    "        up['slice_id'] = ['up_' + str(x) for x in range(steps)]\n",
    "        slices = pd.concat([slices, up], ignore_index=True)\n",
    "\n",
    "        # Cr�ation des tranches \"mid\"\n",
    "        mid = pd.DataFrame(index=pd.date_range(start=ciuchStart, end=ciuchStop, periods=steps)) \\\n",
    "            .reset_index(drop=False).rename(columns={'index': 'slice'})\n",
    "        mid['slice_id'] = ['mid_' + str(x) for x in range(steps)]\n",
    "        slices = pd.concat([slices, mid], ignore_index=True)\n",
    "\n",
    "        # Cr�ation des tranches \"down\"\n",
    "        down = pd.DataFrame(index=pd.date_range(start=ciuchStop, end=ciuchStopdown, periods=steps)) \\\n",
    "            .reset_index(drop=False).rename(columns={'index': 'slice'})\n",
    "        down['slice_id'] = ['down_' + str(x) for x in range(steps)]\n",
    "        slices = pd.concat([slices, down], ignore_index=True)\n",
    "\n",
    "    slices.reset_index(drop=False, inplace=True)\n",
    "\n",
    "    # \n",
    "    timing_slices=pd.merge_asof(slices,timing,left_on='slice',right_on='ciuchStartup',direction='backward')\n",
    "    timing_slices=timing_slices[['run', 'refListId', 'refListId_last','slice_id','slice',  \\\n",
    "                                 'ciuchStartup', 'ciuchStart', 'ciuchStop', 'ciuchStopdown','t0_run']]\n",
    "    \n",
    "    # merge between df and timing\n",
    "    # merge_asof needs sorted df > df_ref\n",
    "    df=df[ (df['LogTime']>=timing['ciuchStartup'].min()) & (df['LogTime']<=timing['ciuchStopdown'].max())  ]\n",
    "    df=df.sort_values('LogTime')\n",
    "    # \n",
    "    # each row in df_ref is merged with the last row in timing where timing (ciuchstart_up) < df_ref (logtime)\n",
    "    # \n",
    "    # df_timing=pd.merge_asof(df_ref,timing,left_on=['LogTime'],right_on=['ciuchStartup'],direction='backward')\n",
    "    # df_timing=df_timing.dropna()\n",
    "    # df_timing=df_timing.sort_values('LogTime').reset_index(drop=True)\n",
    "    # df_timing=df_timing[['run', 'Epc','refListId', 'refListId_last', 'ciuchStartup',\\\n",
    "    #                      'LogTime', 'ciuchStop', 'ciuchStopdown','Rssi', 'loc', 'refListId_actual']]\n",
    "    # \n",
    "    # each row in df_ref is merged with the last row in timing_slices where timing (slice) < df_ref (logtime)\n",
    "    # \n",
    "    df_timing_slices=pd.merge_asof(df,timing_slices,left_on=['LogTime'],right_on=['slice'],direction='backward')\n",
    "    df_timing_slices=df_timing_slices.dropna()\n",
    "    df_timing_slices=df_timing_slices.sort_values('slice').reset_index(drop=True)\n",
    "    df_timing_slices=df_timing_slices[['run', 'Epc','refListId', 'refListId_last', 'ciuchStartup','slice_id','slice','LogTime', \\\n",
    "                          'ciuchStart','ciuchStop', 'ciuchStopdown', 'Rssi', 'loc','t0_run']]\n",
    "    df_timing_slices['reflist_run_id'] = df_timing_slices['refListId'].astype(str) +\"_\"+ df_timing_slices['run'].astype(str)\n",
    "    \n",
    "    # runs 16 23 32 40 have missing boxes: discarded\n",
    "    # also run 1 is the start, no previous box: discarded\n",
    "    # run 18: box 0 run at the end\n",
    "    # \n",
    "    timing=timing[~timing['run'].isin([1,18,16,23,32,40])]\n",
    "    timing_slices=timing_slices[~timing_slices['run'].isin([1,18,16,23,32,40])]\n",
    "    df_timing_slices=df_timing_slices[~df_timing_slices['run'].isin([1,18,16,23,32,40])]\n",
    "\n",
    "    df_timing_slices=df_timing_slices.sort_values(['LogTime','Epc'])\n",
    "    \n",
    "    # df_timing_slices['dt']=\n",
    "    df_timing_slices['dt']=(df_timing_slices['LogTime']-df_timing_slices['t0_run']).apply(lambda x:x.total_seconds())\n",
    "    \n",
    "    timing['reflist_run_id']= timing['refListId'].astype(str)+\"_\"+ timing['run'].astype(str)\n",
    "    timing['window_width']=(timing['ciuchStopdown']-timing['ciuchStartup']).apply(lambda x:x.total_seconds())\n",
    "    windows=timing[['reflist_run_id', 'window_width']]\n",
    "    rssi_quantite=1\n",
    "    return [df_timing_slices, windows,rssi_quantite,reflist]\n",
    "\n",
    "\n",
    "def dataset(df_timing_slices, windows, rssi_quantite):\n",
    "    ds_rssi = df_timing_slices.groupby(['Epc', 'reflist_run_id', 'slice_id', 'loc'])['Rssi'].quantile(rssi_quantite) \\\n",
    "                 .unstack(['slice_id', 'loc'], fill_value=-110)\n",
    "    ds_rssi.columns = [x[0] + '_' + x[1] for x in ds_rssi.columns]\n",
    "    ds_rssi = ds_rssi.reset_index(drop=False)\n",
    "    \n",
    "    ds_rc = df_timing_slices.groupby(['Epc', 'reflist_run_id', 'slice_id', 'loc']).size() \\\n",
    "               .unstack(['slice_id', 'loc'], fill_value=0)\n",
    "    ds_rc.columns = [x[0] + '_' + x[1] for x in ds_rc.columns]\n",
    "    ds_rc = ds_rc.reset_index(drop=False)\n",
    "    \n",
    "    ds = pd.merge(ds_rssi, ds_rc, on=['Epc', 'reflist_run_id'], suffixes=['_rssi', '_rc'])\n",
    "    ds = pd.merge(ds, windows, on='reflist_run_id', how='left')\n",
    "    \n",
    "    Q_Epcs_window = df_timing_slices.groupby(['reflist_run_id'])['Epc'].nunique().rename('Epcs_window').reset_index(drop=False)\n",
    "    ds = pd.merge(ds, Q_Epcs_window, on='reflist_run_id', how='left')\n",
    "    \n",
    "    Q_reads_window = df_timing_slices.groupby(['reflist_run_id']).size().rename('reads_window').reset_index(drop=False)\n",
    "    ds = pd.merge(ds, Q_reads_window, on='reflist_run_id', how='left')\n",
    "    \n",
    "    ds=pd.merge(ds, pretraitement_knn()[3], on='Epc', how='left')\n",
    "    ds['actual']=ds['reflist_run_id'].apply(lambda x: x.split ('_')[0]).astype('int64')== ds['refListId_actual']\n",
    "    ds['actual'] = ds ['actual'].replace({True: 'IN' , False: 'OUT'})\n",
    "    \n",
    "    end_time = datetime.now()\n",
    "    print('Duree de pretraitement_knn {}'.format(end_time - start_time))\n",
    "    \n",
    "    return ds\n",
    "#data = pretraitement_knn()\n",
    "#colonne=dataset(pretraitement_knn()[0],pretraitement_knn()[1],pretraitement_knn()[2]).columns\n",
    "\n",
    "\n",
    "def Xcols_func(features, Xcols_all):\n",
    "    Features=pd.DataFrame(\\\n",
    "        [\\\n",
    "         ['all', True, True, False, True, True, True],\\\n",
    "         ['rssi & rc only', True, True, False, False, False, False],\\\n",
    "         ['rssi & rc_mid', True, True, True, False, False, False],\\\n",
    "         ['rssi only', True, False, True, False, False, False],\\\n",
    "         ['rc only', False, True, False, False, False, False],\\\n",
    "        ], columns=['features', 'rssi', 'rc', 'rc_mid_only', 'Epcs_window', 'reads_window', 'window_width'])\n",
    "    Features\n",
    "\n",
    "    Features_temp = Features[Features['features']==features]\n",
    "    \n",
    "    X=[]\n",
    "    rssi = Features_temp ['rssi'].values[0]\n",
    "    rc = Features_temp['rc'].values[0]\n",
    "    rc_mid_only = Features_temp['rc_mid_only'].values[0]\n",
    "    Epcs_window =  Features_temp['Epcs_window'].values[0]\n",
    "    reads_window =  Features_temp['reads_window'].values[0]\n",
    "    window_width =  Features_temp['window_width'].values[0]\n",
    "    \n",
    "    colonne = Xcols_all\n",
    "    \n",
    "    X_rssi = [x for x in colonne if rssi*'rssi' in x.split('_')]\n",
    "    X_rc = [x for x in colonne if rc*'rc' in x.split('_')]\n",
    "    \n",
    "    X = X_rssi + X_rc\n",
    "    \n",
    "    if Epcs_window:\n",
    "        X.append('Epcs_window')\n",
    "    if reads_window:\n",
    "        X.append('reads_window')\n",
    "    if window_width:\n",
    "        X.append('window_width')\n",
    "        \n",
    "    return X"
   ]
  },
  {
   "cell_type": "code",
   "execution_count": 13,
   "id": "e5cd479c-d144-4764-90b3-8240904e858d",
   "metadata": {
    "tags": []
   },
   "outputs": [],
   "source": [
    "estimators = list(range(1,90))\n",
    "depth = list(range(1,50))\n",
    "leaves = list(range(1,30))"
   ]
  },
  {
   "cell_type": "code",
   "execution_count": 25,
   "id": "88c6a1e2-732e-413a-913e-738bcf2dd116",
   "metadata": {
    "tags": []
   },
   "outputs": [],
   "source": [
    "neighbors = list(range(1,100))\n",
    "weights = [\"uniform\", \"distance\"]\n",
    "metrics = [\"minkowski\", \"euclidean\", \"manhattan\"]"
   ]
  },
  {
   "cell_type": "code",
   "execution_count": 26,
   "id": "5ed00009-07c4-4fb1-9a19-4d42f9cbf10c",
   "metadata": {
    "tags": []
   },
   "outputs": [],
   "source": [
    "C =  [ round(x * 0.02, 3) for x in range(50)] + [round(x * 0.2, 3) for x in range(5,51)]\n",
    "gammas = ['scale', 'auto']\n",
    "kernels = ['rbf','linear','polynomial', 'precomputed', 'sygmoid']"
   ]
  },
  {
   "cell_type": "code",
   "execution_count": 30,
   "id": "34bcd223-966c-437b-89fc-6cb37d6219da",
   "metadata": {
    "tags": []
   },
   "outputs": [],
   "source": [
    "rf, svm, knn = RandomForestClassifier(), SVC(), KNeighborsClassifier()"
   ]
  },
  {
   "cell_type": "code",
   "execution_count": null,
   "id": "adc55aeb-9f86-4a0e-94a4-b8fc174e5559",
   "metadata": {
    "tags": []
   },
   "outputs": [],
   "source": [
    "{\n",
    "    \"random forest\":[\"n_estimators\", \"max_depth\", \"min_samples_leaf\"],\n",
    "    \"SVM\" : [\"gamma\", \"c\", \"kernel\"],\n",
    "    \"KNN\" : [\"n_neighors\",\"weight\", \"metric\" ]\n",
    "}"
   ]
  },
  {
   "cell_type": "code",
   "execution_count": 42,
   "id": "9731806d-ee4f-4369-a6ef-da402a27fabe",
   "metadata": {
    "tags": []
   },
   "outputs": [],
   "source": [
    "label_encoder = LabelEncoder()"
   ]
  },
  {
   "cell_type": "code",
   "execution_count": 44,
   "id": "3b62e199-7105-47b5-81e9-95a958cefab3",
   "metadata": {
    "tags": []
   },
   "outputs": [],
   "source": [
    "# Getting the data\n",
    "data = pretraitement_knn() \n",
    "ds = dataset(data[0],data[1],data[2])"
   ]
  },
  {
   "cell_type": "code",
   "execution_count": 45,
   "id": "def472e4-49a6-46be-a9c8-8bb4beb48485",
   "metadata": {
    "tags": []
   },
   "outputs": [
    {
     "name": "stderr",
     "output_type": "stream",
     "text": [
      "C:\\Users\\pc\\AppData\\Local\\Temp\\ipykernel_17196\\859919143.py:212: DeprecationWarning: In future, it will be an error for 'np.bool_' scalars to be interpreted as an index\n",
      "  X_rssi = [x for x in colonne if rssi*'rssi' in x.split('_')]\n",
      "C:\\Users\\pc\\AppData\\Local\\Temp\\ipykernel_17196\\859919143.py:213: DeprecationWarning: In future, it will be an error for 'np.bool_' scalars to be interpreted as an index\n",
      "  X_rc = [x for x in colonne if rc*'rc' in x.split('_')]\n"
     ]
    }
   ],
   "source": [
    "# Getting X and y \n",
    "X = ds[Xcols_func('rssi & rc only',ds.columns)]\n",
    "ds['actual'] = label_encoder.fit_transform(ds['actual'])\n",
    "y = ds['actual']"
   ]
  },
  {
   "cell_type": "code",
   "execution_count": 46,
   "id": "72bb2186-e88f-465e-8098-839d077e624d",
   "metadata": {
    "tags": []
   },
   "outputs": [],
   "source": [
    "X_train, X_test, y_train, y_test = train_test_split(X,y, test_size = 0.2)"
   ]
  },
  {
   "cell_type": "code",
   "execution_count": 61,
   "id": "ffb684fe-2b2b-42a6-a010-35cb3fce9f09",
   "metadata": {
    "tags": []
   },
   "outputs": [],
   "source": [
    "train_scores, val_scores = validation_curve(rf, X_train, y_train, param_name = 'n_estimators',\n",
    "                                            param_range = np.array(neighbors), cv = 7)"
   ]
  },
  {
   "cell_type": "code",
   "execution_count": 79,
   "id": "48c71ee4-3f4f-4e64-b5d7-99d3dea1c17f",
   "metadata": {
    "tags": []
   },
   "outputs": [],
   "source": [
    "def plot_validation_curves(ml_model:str, train_X, train_y, hyper_parameter:str, parameter_range, \n",
    "                           folders:int):\n",
    "    start = datetime.now()\n",
    "    models = { \n",
    "        'RandomForest': RandomForestClassifier(), \n",
    "       # 'Random Forest' : RandomForestClassifier(), \n",
    "        'SVM' : SVC(),\n",
    "        'KNN' : KNeighborsClassifier(),\n",
    "       # 'Kneigbors' : KNeighborsClassifier()\n",
    "    }\n",
    "    \n",
    "    train_scores, val_scores = validation_curve(models[ml_model], train_X, train_y, param_name = hyper_parameter,\n",
    "                                                     param_range = np.array(parameter_range), cv = folders)\n",
    "    \n",
    "    # curves \n",
    "    plt.plot(parameter_range, train_scores, 'y-', label = \"score à l\\'entrainement\")\n",
    "    #plt.plot(parameter_range, val_scores, 'r-', label = \"score à la validation\")\n",
    "     \n",
    "    # Ajouter un titre et des légendes pour l'axe x et l'axe y\n",
    "    plt.title('Précision de '+ ml_model + 'en fonction de ' + hyper_parameter ) # titre\n",
    "    plt.xlabel('Valeurs de ' + hyper_parameter) # légende de l'axe des abscisses\n",
    "    plt.ylabel('Valeurs de précision') # légende de l'axe des ordonées\n",
    "    \n",
    "    # légende\n",
    "    plt.legend() \n",
    "    plt.grid(True)\n",
    "    \n",
    "    # Sauvegarde des graphes\n",
    "    plt.savefig('courbes/' + ml_model + '/' + hyper_parameter + '.png', dpi = 300)\n",
    "    \n",
    "    #print('min22 :',df_month['value22'].max(),'\\nMin23 :', df_month['value23'].max())\n",
    "    plt.show() # Affichage de la figure\n",
    "    end = datetime.now()\n",
    "    print('Duree de curve_validation_plot : {}'.format(end-start))\n",
    "    "
   ]
  },
  {
   "cell_type": "code",
   "execution_count": 74,
   "id": "1eea84b4-b9c3-47a5-a93a-9f698f606dd6",
   "metadata": {
    "tags": []
   },
   "outputs": [
    {
     "data": {
      "image/png": "[encoded data removed]",
      "text/plain": [
       "<Figure size 1400x1000 with 1 Axes>"
      ]
     },
     "metadata": {},
     "output_type": "display_data"
    }
   ],
   "source": [
    "plt.figure(figsize = (14,10))\n",
    "plt.plot(np.array(neighbors), train_scores, 'y+', label = \"score à l\\'entrainement\")\n",
    "#plt.plot(np.array(neighbors), val_scores, 'r-', label = \"score à la validation\")\n",
    "plt.show()"
   ]
  },
  {
   "cell_type": "code",
   "execution_count": 83,
   "id": "d60657fa-faa9-4935-838b-9b8589f3d4f2",
   "metadata": {
    "tags": []
   },
   "outputs": [
    {
     "data": {
      "image/png": "[encoded data removed]",
      "text/plain": [
       "<Figure size 640x480 with 1 Axes>"
      ]
     },
     "metadata": {},
     "output_type": "display_data"
    },
    {
     "name": "stdout",
     "output_type": "stream",
     "text": [
      "Duree de curve_validation_plot : 0:04:30.290581\n"
     ]
    }
   ],
   "source": [
    "plot_validation_curves('RandomForest',X_train, y_train, 'max_depth', depth, 5)"
   ]
  },
  {
   "cell_type": "code",
   "execution_count": null,
   "id": "ef9f73bd-9fc9-4627-af50-fd26ba9ae279",
   "metadata": {},
   "outputs": [],
   "source": []
  }
 ],
 "metadata": {
  "kernelspec": {
   "display_name": "Python 3 (ipykernel)",
   "language": "python",
   "name": "python3"
  },
  "language_info": {
   "codemirror_mode": {
    "name": "ipython",
    "version": 3
   },
   "file_extension": ".py",
   "mimetype": "text/x-python",
   "name": "python",
   "nbconvert_exporter": "python",
   "pygments_lexer": "ipython3",
   "version": "3.11.5"
  }
 },
 "nbformat": 4,
 "nbformat_minor": 5
}
