{
 "cells": [
  {
   "cell_type": "code",
   "execution_count": null,
   "id": "be825feb-1edd-428c-bf9e-f29cf9e64197",
   "metadata": {},
   "outputs": [],
   "source": []
  },
  {
   "cell_type": "code",
   "execution_count": 1,
   "id": "fb88fa35-1fab-4f30-8c4b-d787ea1ac6ba",
   "metadata": {
    "tags": []
   },
   "outputs": [],
   "source": [
    "import pandas as pd\n",
    "import numpy as np\n",
    "import matplotlib.pyplot as plt\n",
    "import datetime"
   ]
  },
  {
   "cell_type": "code",
   "execution_count": 2,
   "id": "ba93634e-e8d3-4b65-9729-9bc7022bc245",
   "metadata": {},
   "outputs": [],
   "source": [
    "from sklearn.model_selection import train_test_split, GridSearchCV, validation_curve, cross_val_score\n",
    "from sklearn.preprocessing import LabelEncoder\n",
    "from sklearn.metrics import accuracy_score"
   ]
  },
  {
   "cell_type": "code",
   "execution_count": 3,
   "id": "2984f6b0-b280-4596-9f2f-9dfc47d0a5a6",
   "metadata": {
    "tags": []
   },
   "outputs": [],
   "source": [
    "from sklearn.ensemble import RandomForestClassifier\n",
    "from sklearn.svm import SVC\n",
    "from sklearn.neighbors import KNeighborsClassifier"
   ]
  },
  {
   "cell_type": "code",
   "execution_count": 4,
   "id": "9027dddc-11dd-4b83-86d8-7cb88e4ecc10",
   "metadata": {
    "tags": []
   },
   "outputs": [],
   "source": [
    "import os\n",
    "#from datetime import datetime\n",
    "\n",
    "def pretraitement_knn():\n",
    "    pathfile = r'ML/Uploads/data_anonymous/'\n",
    "\n",
    "    # reflist: list of epc in each box\n",
    "    reflist = pd.DataFrame()\n",
    "    # \n",
    "    files=os.listdir(pathfile)\n",
    "    for file in files:\n",
    "        if file.startswith('reflist_'):\n",
    "            temp=pd.read_csv(os.path.join(pathfile,file),sep=',').reset_index(drop=True)[['Epc']]\n",
    "            temp['refListId']=file.split('.')[0]\n",
    "            reflist = pd.concat([reflist, temp], axis = 0)\n",
    "            #reflist=reflist.append(temp)\n",
    "    reflist=reflist.rename(columns = {'refListId':'refListId_actual'})\n",
    "    reflist['refListId_actual'] = reflist['refListId_actual'].apply(lambda x:int(x[8:]))\n",
    "\n",
    "    Q_refListId_actual=reflist.groupby('refListId_actual')['Epc'].nunique().rename('Q refListId_actual').reset_index(drop=False)\n",
    "    reflist=pd.merge(reflist,Q_refListId_actual,on='refListId_actual',how='left')\n",
    "    \n",
    "    df=pd.DataFrame()\n",
    "    # \n",
    "    #files=os.listdir(pathfile)\n",
    "    for file in files:\n",
    "        if file.startswith('ano_APTags'):\n",
    "       \n",
    "            temp=pd.read_csv(os.path.join(pathfile,file),sep=',')\n",
    "            df= pd.concat([df, temp], axis = 0)\n",
    "    df['LogTime'] = pd.to_datetime (df['LogTime'] ,format='%Y-%m-%d-%H:%M:%S') \n",
    "    df['TimeStamp'] = df['TimeStamp'].astype(float)\n",
    "    df['Rssi'] = df['Rssi'].astype(float)\n",
    "    df=df.drop(['Reader','EmitPower','Frequency'],axis=1).reset_index(drop=True)\n",
    "    df=df[['LogTime', 'Epc', 'Rssi', 'Ant']]\n",
    "    # antennas 1 and 2 are facing the box when photocell in/out \n",
    "    Ant_loc=pd.DataFrame({'Ant':[1,2,3,4],'loc':['in','in','out','out']})\n",
    "    df=pd.merge(df,Ant_loc,on=['Ant'])\n",
    "    df=df.sort_values('LogTime').reset_index(drop=True)\n",
    "\n",
    "    tags = df\n",
    "\n",
    "        # timing: photocells a time window for each box: start/stop (ciuchStart, ciuchStop)\n",
    "    file=r'ano_supply-process.2019-11-07-CUT.csv'\n",
    "    timing=pd.read_csv(os.path.join(pathfile,file),sep=',')\n",
    "    timing['file']=file\n",
    "    timing['date']=pd.to_datetime(timing['date'],format='%d/%m/%Y %H:%M:%S,%f')\n",
    "    timing['ciuchStart']=pd.to_datetime(timing['ciuchStart'],format='%d/%m/%Y %H:%M:%S,%f')\n",
    "    timing['ciuchStop']=pd.to_datetime(timing['ciuchStop'],format='%d/%m/%Y %H:%M:%S,%f')\n",
    "    timing['timestampStart']=timing['timestampStart'].astype(float)\n",
    "    timing['timestampStop']=timing['timestampStop'].astype(float)\n",
    "    timing=timing.sort_values('date')\n",
    "    timing.loc[:,'refListId']=timing.loc[:,'refListId'].apply(lambda x:int(x[8:]))\n",
    "    timing=timing[['refListId', 'ciuchStart', 'ciuchStop']]\n",
    "    \n",
    "    \n",
    "        # ciuchStart_up starts upstream ciuchStart, half way in between the previous stop and the actual start\n",
    "    timing[['ciuchStop_last']]=timing[['ciuchStop']].shift(1)\n",
    "    timing[['refListId_last']]=timing[['refListId']].shift(1)\n",
    "    timing['ciuchStartup']=timing['ciuchStart'] - (timing['ciuchStart'] - timing['ciuchStop_last'])/2\n",
    "    # timing start: 10sec before timing\n",
    "    timing.loc[0,'refListId_last']=timing.loc[0,'refListId']\n",
    "    timing.loc[0,'ciuchStartup']=timing.loc[0,'ciuchStart']-datetime.timedelta(seconds=10)\n",
    "    timing.loc[0,'ciuchStop_last']=timing.loc[0,'ciuchStartup']-datetime.timedelta(seconds=10)\n",
    "    timing['refListId_last']=timing['refListId_last'].astype(int)\n",
    "    # \n",
    "    timing['ciuchStopdown']= timing['ciuchStartup'].shift(-1)\n",
    "    timing.loc[len(timing)-1,'ciuchStopdown']=timing.loc[len(timing)-1,'ciuchStop']+datetime.timedelta(seconds=10)\n",
    "    timing=timing[['refListId', 'refListId_last','ciuchStartup', 'ciuchStart','ciuchStop','ciuchStopdown']]\n",
    "    \n",
    "    \n",
    "        # t0_run = a new run starts when box 0 shows up\n",
    "    t0_run=timing[timing['refListId']==0] [['ciuchStartup']]\n",
    "    t0_run=t0_run.rename(columns={'ciuchStartup':'t0_run'})\n",
    "    t0_run=t0_run.groupby('t0_run').size().cumsum().rename('run').reset_index(drop=False)\n",
    "    t0_run=t0_run.sort_values('t0_run')\n",
    "    # \n",
    "    # each row in timing is merged with a last row in t0_run where t0_run (ciuchstart) <= timing (ciuchstart)\n",
    "    timing=pd.merge_asof(timing,t0_run,left_on='ciuchStartup',right_on='t0_run', direction='backward')\n",
    "    timing=timing.sort_values('ciuchStop')\n",
    "    timing=timing[['run', 'refListId', 'refListId_last', 'ciuchStartup','ciuchStart','ciuchStop','ciuchStopdown','t0_run']]\n",
    "\n",
    "    \n",
    "    slices = pd.DataFrame()\n",
    "    for i, row in timing.iterrows():\n",
    "        ciuchStartup = row['ciuchStartup']\n",
    "        ciuchStart = row['ciuchStart']\n",
    "        ciuchStop = row['ciuchStop']\n",
    "        ciuchStopdown = row['ciuchStopdown']\n",
    "        steps = 3\n",
    "\n",
    "        # Cr�ation des tranches \"up\"\n",
    "        up = pd.DataFrame(index=pd.date_range(start=ciuchStartup, end=ciuchStart, periods=steps)) \\\n",
    "            .reset_index(drop=False).rename(columns={'index': 'slice'})\n",
    "        up['slice_id'] = ['up_' + str(x) for x in range(steps)]\n",
    "        slices = pd.concat([slices, up], ignore_index=True)\n",
    "\n",
    "        # Cr�ation des tranches \"mid\"\n",
    "        mid = pd.DataFrame(index=pd.date_range(start=ciuchStart, end=ciuchStop, periods=steps)) \\\n",
    "            .reset_index(drop=False).rename(columns={'index': 'slice'})\n",
    "        mid['slice_id'] = ['mid_' + str(x) for x in range(steps)]\n",
    "        slices = pd.concat([slices, mid], ignore_index=True)\n",
    "\n",
    "        # Cr�ation des tranches \"down\"\n",
    "        down = pd.DataFrame(index=pd.date_range(start=ciuchStop, end=ciuchStopdown, periods=steps)) \\\n",
    "            .reset_index(drop=False).rename(columns={'index': 'slice'})\n",
    "        down['slice_id'] = ['down_' + str(x) for x in range(steps)]\n",
    "        slices = pd.concat([slices, down], ignore_index=True)\n",
    "\n",
    "    slices.reset_index(drop=False, inplace=True)\n",
    "\n",
    "    # \n",
    "    timing_slices=pd.merge_asof(slices,timing,left_on='slice',right_on='ciuchStartup',direction='backward')\n",
    "    timing_slices=timing_slices[['run', 'refListId', 'refListId_last','slice_id','slice',  \\\n",
    "                                 'ciuchStartup', 'ciuchStart', 'ciuchStop', 'ciuchStopdown','t0_run']]\n",
    "    \n",
    "    # merge between df and timing\n",
    "    # merge_asof needs sorted df > df_ref\n",
    "    df=df[ (df['LogTime']>=timing['ciuchStartup'].min()) & (df['LogTime']<=timing['ciuchStopdown'].max())  ]\n",
    "    df=df.sort_values('LogTime')\n",
    "    # \n",
    "    # each row in df_ref is merged with the last row in timing where timing (ciuchstart_up) < df_ref (logtime)\n",
    "    # \n",
    "    # df_timing=pd.merge_asof(df_ref,timing,left_on=['LogTime'],right_on=['ciuchStartup'],direction='backward')\n",
    "    # df_timing=df_timing.dropna()\n",
    "    # df_timing=df_timing.sort_values('LogTime').reset_index(drop=True)\n",
    "    # df_timing=df_timing[['run', 'Epc','refListId', 'refListId_last', 'ciuchStartup',\\\n",
    "    #                      'LogTime', 'ciuchStop', 'ciuchStopdown','Rssi', 'loc', 'refListId_actual']]\n",
    "    # \n",
    "    # each row in df_ref is merged with the last row in timing_slices where timing (slice) < df_ref (logtime)\n",
    "    # \n",
    "    df_timing_slices=pd.merge_asof(df,timing_slices,left_on=['LogTime'],right_on=['slice'],direction='backward')\n",
    "    df_timing_slices=df_timing_slices.dropna()\n",
    "    df_timing_slices=df_timing_slices.sort_values('slice').reset_index(drop=True)\n",
    "    df_timing_slices=df_timing_slices[['run', 'Epc','refListId', 'refListId_last', 'ciuchStartup','slice_id','slice','LogTime', \\\n",
    "                          'ciuchStart','ciuchStop', 'ciuchStopdown', 'Rssi', 'loc','t0_run']]\n",
    "    df_timing_slices['reflist_run_id'] = df_timing_slices['refListId'].astype(str) +\"_\"+ df_timing_slices['run'].astype(str)\n",
    "    \n",
    "    # runs 16 23 32 40 have missing boxes: discarded\n",
    "    # also run 1 is the start, no previous box: discarded\n",
    "    # run 18: box 0 run at the end\n",
    "    # \n",
    "    timing=timing[~timing['run'].isin([1,18,16,23,32,40])]\n",
    "    timing_slices=timing_slices[~timing_slices['run'].isin([1,18,16,23,32,40])]\n",
    "    df_timing_slices=df_timing_slices[~df_timing_slices['run'].isin([1,18,16,23,32,40])]\n",
    "\n",
    "    df_timing_slices=df_timing_slices.sort_values(['LogTime','Epc'])\n",
    "    \n",
    "    # df_timing_slices['dt']=\n",
    "    df_timing_slices['dt']=(df_timing_slices['LogTime']-df_timing_slices['t0_run']).apply(lambda x:x.total_seconds())\n",
    "    \n",
    "    timing['reflist_run_id']= timing['refListId'].astype(str)+\"_\"+ timing['run'].astype(str)\n",
    "    timing['window_width']=(timing['ciuchStopdown']-timing['ciuchStartup']).apply(lambda x:x.total_seconds())\n",
    "    windows=timing[['reflist_run_id', 'window_width']]\n",
    "    rssi_quantite=1\n",
    "    return [df_timing_slices, windows,rssi_quantite,reflist]\n",
    "\n",
    "\n",
    "def dataset(df_timing_slices, windows, rssi_quantite):\n",
    "    ds_rssi = df_timing_slices.groupby(['Epc', 'reflist_run_id', 'slice_id', 'loc'])['Rssi'].quantile(rssi_quantite) \\\n",
    "                 .unstack(['slice_id', 'loc'], fill_value=-110)\n",
    "    ds_rssi.columns = [x[0] + '_' + x[1] for x in ds_rssi.columns]\n",
    "    ds_rssi = ds_rssi.reset_index(drop=False)\n",
    "    \n",
    "    ds_rc = df_timing_slices.groupby(['Epc', 'reflist_run_id', 'slice_id', 'loc']).size() \\\n",
    "               .unstack(['slice_id', 'loc'], fill_value=0)\n",
    "    ds_rc.columns = [x[0] + '_' + x[1] for x in ds_rc.columns]\n",
    "    ds_rc = ds_rc.reset_index(drop=False)\n",
    "    \n",
    "    ds = pd.merge(ds_rssi, ds_rc, on=['Epc', 'reflist_run_id'], suffixes=['_rssi', '_rc'])\n",
    "    ds = pd.merge(ds, windows, on='reflist_run_id', how='left')\n",
    "    \n",
    "    Q_Epcs_window = df_timing_slices.groupby(['reflist_run_id'])['Epc'].nunique().rename('Epcs_window').reset_index(drop=False)\n",
    "    ds = pd.merge(ds, Q_Epcs_window, on='reflist_run_id', how='left')\n",
    "    \n",
    "    Q_reads_window = df_timing_slices.groupby(['reflist_run_id']).size().rename('reads_window').reset_index(drop=False)\n",
    "    ds = pd.merge(ds, Q_reads_window, on='reflist_run_id', how='left')\n",
    "    \n",
    "    ds=pd.merge(ds, pretraitement_knn()[3], on='Epc', how='left')\n",
    "    ds['actual']=ds['reflist_run_id'].apply(lambda x: x.split ('_')[0]).astype('int64')== ds['refListId_actual']\n",
    "    ds['actual'] = ds ['actual'].replace({True: 'IN' , False: 'OUT'})\n",
    "    \n",
    "    return ds\n",
    "#data = pretraitement_knn()\n",
    "#colonne=dataset(pretraitement_knn()[0],pretraitement_knn()[1],pretraitement_knn()[2]).columns\n",
    "\n",
    "\n",
    "def Xcols_func(features, Xcols_all):\n",
    "    Features=pd.DataFrame(\\\n",
    "        [\\\n",
    "         ['all', True, True, False, True, True, True],\\\n",
    "         ['rssi & rc only', True, True, False, False, False, False],\\\n",
    "         ['rssi & rc_mid', True, True, True, False, False, False],\\\n",
    "         ['rssi only', True, False, True, False, False, False],\\\n",
    "         ['rc only', False, True, False, False, False, False],\\\n",
    "        ], columns=['features', 'rssi', 'rc', 'rc_mid_only', 'Epcs_window', 'reads_window', 'window_width'])\n",
    "    Features\n",
    "\n",
    "    Features_temp = Features[Features['features']==features]\n",
    "    \n",
    "    X=[]\n",
    "    rssi = Features_temp ['rssi'].values[0]\n",
    "    rc = Features_temp['rc'].values[0]\n",
    "    rc_mid_only = Features_temp['rc_mid_only'].values[0]\n",
    "    Epcs_window =  Features_temp['Epcs_window'].values[0]\n",
    "    reads_window =  Features_temp['reads_window'].values[0]\n",
    "    window_width =  Features_temp['window_width'].values[0]\n",
    "    \n",
    "    colonne = Xcols_all\n",
    "    \n",
    "    X_rssi = [x for x in colonne if rssi*'rssi' in x.split('_')]\n",
    "    X_rc = [x for x in colonne if rc*'rc' in x.split('_')]\n",
    "    \n",
    "    X = X_rssi + X_rc\n",
    "    \n",
    "    if Epcs_window:\n",
    "        X.append('Epcs_window')\n",
    "    if reads_window:\n",
    "        X.append('reads_window')\n",
    "    if window_width:\n",
    "        X.append('window_width')\n",
    "        \n",
    "    return X"
   ]
  },
  {
   "cell_type": "code",
   "execution_count": 5,
   "id": "e5cd479c-d144-4764-90b3-8240904e858d",
   "metadata": {
    "tags": []
   },
   "outputs": [],
   "source": [
    "estimators = list(range(1,90))\n",
    "depth = list(range(1,45))\n",
    "leaves = list(range(1,45))"
   ]
  },
  {
   "cell_type": "code",
   "execution_count": 6,
   "id": "88c6a1e2-732e-413a-913e-738bcf2dd116",
   "metadata": {
    "tags": []
   },
   "outputs": [],
   "source": [
    "neighbors = list(range(1,26))\n",
    "weights = [\"uniform\", \"distance\"]\n",
    "metrics = [\"minkowski\", \"euclidean\", \"manhattan\"]"
   ]
  },
  {
   "cell_type": "code",
   "execution_count": 7,
   "id": "34bcd223-966c-437b-89fc-6cb37d6219da",
   "metadata": {
    "tags": []
   },
   "outputs": [],
   "source": [
    "rf, svm, knn = RandomForestClassifier(), SVC(), KNeighborsClassifier()"
   ]
  },
  {
   "cell_type": "code",
   "execution_count": 10,
   "id": "9731806d-ee4f-4369-a6ef-da402a27fabe",
   "metadata": {
    "tags": []
   },
   "outputs": [],
   "source": [
    "import os"
   ]
  },
  {
   "cell_type": "code",
   "execution_count": 8,
   "id": "acc3ed68-411a-4b45-8895-1372edfa7416",
   "metadata": {},
   "outputs": [
    {
     "ename": "NameError",
     "evalue": "name 'C' is not defined",
     "output_type": "error",
     "traceback": [
      "\u001b[1;31m---------------------------------------------------------------------------\u001b[0m",
      "\u001b[1;31mNameError\u001b[0m                                 Traceback (most recent call last)",
      "Cell \u001b[1;32mIn[8], line 1\u001b[0m\n\u001b[1;32m----> 1\u001b[0m \u001b[38;5;28mlen\u001b[39m(\u001b[43mC\u001b[49m)\n",
      "\u001b[1;31mNameError\u001b[0m: name 'C' is not defined"
     ]
    }
   ],
   "source": [
    "len(C)"
   ]
  },
  {
   "cell_type": "code",
   "execution_count": null,
   "id": "a0fc74d3-5866-4766-8e41-451a62e55c4a",
   "metadata": {},
   "outputs": [],
   "source": []
  },
  {
   "cell_type": "code",
   "execution_count": 5,
   "id": "3b62e199-7105-47b5-81e9-95a958cefab3",
   "metadata": {
    "tags": []
   },
   "outputs": [
    {
     "name": "stderr",
     "output_type": "stream",
     "text": [
      "C:\\Users\\46425238\\AppData\\Local\\Temp\\ipykernel_3884\\2680203562.py:53: DeprecationWarning: In a future version, `df.iloc[:, i] = newvals` will attempt to set the values inplace instead of always setting a new array. To retain the old behavior, use either `df[df.columns[i]] = newvals` or, if columns are non-unique, `df.isetitem(i, newvals)`\n",
      "  timing.loc[:,'refListId']=timing.loc[:,'refListId'].apply(lambda x:int(x[8:]))\n",
      "C:\\Users\\46425238\\AppData\\Local\\Temp\\ipykernel_3884\\2680203562.py:53: DeprecationWarning: In a future version, `df.iloc[:, i] = newvals` will attempt to set the values inplace instead of always setting a new array. To retain the old behavior, use either `df[df.columns[i]] = newvals` or, if columns are non-unique, `df.isetitem(i, newvals)`\n",
      "  timing.loc[:,'refListId']=timing.loc[:,'refListId'].apply(lambda x:int(x[8:]))\n"
     ]
    },
    {
     "name": "stdout",
     "output_type": "stream",
     "text": [
      "Duree de pretraitement_knn 0:00:09.197838\n"
     ]
    }
   ],
   "source": [
    "# Getting the data\n",
    "start_time = datetime.datetime.now()\n",
    "data = pretraitement_knn() \n",
    "ds = dataset(data[0],data[1],data[2])\n",
    "end_time = datetime.datetime.now()\n",
    "print('Duree de pretraitement_knn {}'.format(end_time - start_time))"
   ]
  },
  {
   "cell_type": "code",
   "execution_count": 6,
   "id": "f3dffbed-4914-4fc5-9044-103477ff7147",
   "metadata": {},
   "outputs": [
    {
     "data": {
      "text/html": [
       "<div>\n",
       "<style scoped>\n",
       "    .dataframe tbody tr th:only-of-type {\n",
       "        vertical-align: middle;\n",
       "    }\n",
       "\n",
       "    .dataframe tbody tr th {\n",
       "        vertical-align: top;\n",
       "    }\n",
       "\n",
       "    .dataframe thead th {\n",
       "        text-align: right;\n",
       "    }\n",
       "</style>\n",
       "<table border=\"1\" class=\"dataframe\">\n",
       "  <thead>\n",
       "    <tr style=\"text-align: right;\">\n",
       "      <th></th>\n",
       "      <th>Epc</th>\n",
       "      <th>reflist_run_id</th>\n",
       "      <th>down_0_out_rssi</th>\n",
       "      <th>down_1_out_rssi</th>\n",
       "      <th>up_1_out_rssi</th>\n",
       "      <th>mid_0_out_rssi</th>\n",
       "      <th>mid_1_out_rssi</th>\n",
       "      <th>up_0_out_rssi</th>\n",
       "      <th>down_0_in_rssi</th>\n",
       "      <th>down_1_in_rssi</th>\n",
       "      <th>...</th>\n",
       "      <th>mid_0_in_rc</th>\n",
       "      <th>mid_1_in_rc</th>\n",
       "      <th>up_1_in_rc</th>\n",
       "      <th>up_0_in_rc</th>\n",
       "      <th>window_width</th>\n",
       "      <th>Epcs_window</th>\n",
       "      <th>reads_window</th>\n",
       "      <th>refListId_actual</th>\n",
       "      <th>Q refListId_actual</th>\n",
       "      <th>actual</th>\n",
       "    </tr>\n",
       "  </thead>\n",
       "  <tbody>\n",
       "    <tr>\n",
       "      <th>0</th>\n",
       "      <td>epc_0</td>\n",
       "      <td>0_10</td>\n",
       "      <td>-67.0</td>\n",
       "      <td>-63.0</td>\n",
       "      <td>-64.0</td>\n",
       "      <td>-110.0</td>\n",
       "      <td>-110.0</td>\n",
       "      <td>-110.0</td>\n",
       "      <td>-110.0</td>\n",
       "      <td>-110.0</td>\n",
       "      <td>...</td>\n",
       "      <td>0</td>\n",
       "      <td>0</td>\n",
       "      <td>0</td>\n",
       "      <td>0</td>\n",
       "      <td>11.4625</td>\n",
       "      <td>74</td>\n",
       "      <td>1526</td>\n",
       "      <td>5</td>\n",
       "      <td>40</td>\n",
       "      <td>OUT</td>\n",
       "    </tr>\n",
       "    <tr>\n",
       "      <th>1</th>\n",
       "      <td>epc_0</td>\n",
       "      <td>0_19</td>\n",
       "      <td>-69.0</td>\n",
       "      <td>-110.0</td>\n",
       "      <td>-110.0</td>\n",
       "      <td>-68.0</td>\n",
       "      <td>-110.0</td>\n",
       "      <td>-110.0</td>\n",
       "      <td>-110.0</td>\n",
       "      <td>-110.0</td>\n",
       "      <td>...</td>\n",
       "      <td>0</td>\n",
       "      <td>0</td>\n",
       "      <td>0</td>\n",
       "      <td>0</td>\n",
       "      <td>15.7040</td>\n",
       "      <td>72</td>\n",
       "      <td>2241</td>\n",
       "      <td>5</td>\n",
       "      <td>40</td>\n",
       "      <td>OUT</td>\n",
       "    </tr>\n",
       "    <tr>\n",
       "      <th>2</th>\n",
       "      <td>epc_0</td>\n",
       "      <td>0_21</td>\n",
       "      <td>-65.0</td>\n",
       "      <td>-110.0</td>\n",
       "      <td>-110.0</td>\n",
       "      <td>-110.0</td>\n",
       "      <td>-110.0</td>\n",
       "      <td>-110.0</td>\n",
       "      <td>-110.0</td>\n",
       "      <td>-110.0</td>\n",
       "      <td>...</td>\n",
       "      <td>0</td>\n",
       "      <td>0</td>\n",
       "      <td>0</td>\n",
       "      <td>0</td>\n",
       "      <td>6.0845</td>\n",
       "      <td>71</td>\n",
       "      <td>897</td>\n",
       "      <td>5</td>\n",
       "      <td>40</td>\n",
       "      <td>OUT</td>\n",
       "    </tr>\n",
       "    <tr>\n",
       "      <th>3</th>\n",
       "      <td>epc_0</td>\n",
       "      <td>0_27</td>\n",
       "      <td>-69.0</td>\n",
       "      <td>-110.0</td>\n",
       "      <td>-110.0</td>\n",
       "      <td>-110.0</td>\n",
       "      <td>-110.0</td>\n",
       "      <td>-110.0</td>\n",
       "      <td>-110.0</td>\n",
       "      <td>-110.0</td>\n",
       "      <td>...</td>\n",
       "      <td>0</td>\n",
       "      <td>0</td>\n",
       "      <td>0</td>\n",
       "      <td>0</td>\n",
       "      <td>5.8215</td>\n",
       "      <td>55</td>\n",
       "      <td>740</td>\n",
       "      <td>5</td>\n",
       "      <td>40</td>\n",
       "      <td>OUT</td>\n",
       "    </tr>\n",
       "    <tr>\n",
       "      <th>4</th>\n",
       "      <td>epc_0</td>\n",
       "      <td>0_29</td>\n",
       "      <td>-65.0</td>\n",
       "      <td>-110.0</td>\n",
       "      <td>-110.0</td>\n",
       "      <td>-110.0</td>\n",
       "      <td>-110.0</td>\n",
       "      <td>-110.0</td>\n",
       "      <td>-110.0</td>\n",
       "      <td>-110.0</td>\n",
       "      <td>...</td>\n",
       "      <td>0</td>\n",
       "      <td>0</td>\n",
       "      <td>0</td>\n",
       "      <td>0</td>\n",
       "      <td>5.7655</td>\n",
       "      <td>61</td>\n",
       "      <td>708</td>\n",
       "      <td>5</td>\n",
       "      <td>40</td>\n",
       "      <td>OUT</td>\n",
       "    </tr>\n",
       "    <tr>\n",
       "      <th>...</th>\n",
       "      <td>...</td>\n",
       "      <td>...</td>\n",
       "      <td>...</td>\n",
       "      <td>...</td>\n",
       "      <td>...</td>\n",
       "      <td>...</td>\n",
       "      <td>...</td>\n",
       "      <td>...</td>\n",
       "      <td>...</td>\n",
       "      <td>...</td>\n",
       "      <td>...</td>\n",
       "      <td>...</td>\n",
       "      <td>...</td>\n",
       "      <td>...</td>\n",
       "      <td>...</td>\n",
       "      <td>...</td>\n",
       "      <td>...</td>\n",
       "      <td>...</td>\n",
       "      <td>...</td>\n",
       "      <td>...</td>\n",
       "      <td>...</td>\n",
       "    </tr>\n",
       "    <tr>\n",
       "      <th>24402</th>\n",
       "      <td>epc_99</td>\n",
       "      <td>9_5</td>\n",
       "      <td>-48.0</td>\n",
       "      <td>-50.0</td>\n",
       "      <td>-110.0</td>\n",
       "      <td>-110.0</td>\n",
       "      <td>-64.0</td>\n",
       "      <td>-110.0</td>\n",
       "      <td>-66.0</td>\n",
       "      <td>-66.0</td>\n",
       "      <td>...</td>\n",
       "      <td>0</td>\n",
       "      <td>0</td>\n",
       "      <td>0</td>\n",
       "      <td>0</td>\n",
       "      <td>6.7370</td>\n",
       "      <td>78</td>\n",
       "      <td>841</td>\n",
       "      <td>0</td>\n",
       "      <td>16</td>\n",
       "      <td>OUT</td>\n",
       "    </tr>\n",
       "    <tr>\n",
       "      <th>24403</th>\n",
       "      <td>epc_99</td>\n",
       "      <td>9_6</td>\n",
       "      <td>-47.0</td>\n",
       "      <td>-47.0</td>\n",
       "      <td>-59.0</td>\n",
       "      <td>-46.0</td>\n",
       "      <td>-43.0</td>\n",
       "      <td>-56.0</td>\n",
       "      <td>-62.0</td>\n",
       "      <td>-61.0</td>\n",
       "      <td>...</td>\n",
       "      <td>2</td>\n",
       "      <td>6</td>\n",
       "      <td>0</td>\n",
       "      <td>0</td>\n",
       "      <td>5.9590</td>\n",
       "      <td>70</td>\n",
       "      <td>831</td>\n",
       "      <td>0</td>\n",
       "      <td>16</td>\n",
       "      <td>OUT</td>\n",
       "    </tr>\n",
       "    <tr>\n",
       "      <th>24404</th>\n",
       "      <td>epc_99</td>\n",
       "      <td>9_7</td>\n",
       "      <td>-44.0</td>\n",
       "      <td>-47.0</td>\n",
       "      <td>-110.0</td>\n",
       "      <td>-63.0</td>\n",
       "      <td>-51.0</td>\n",
       "      <td>-110.0</td>\n",
       "      <td>-70.0</td>\n",
       "      <td>-63.0</td>\n",
       "      <td>...</td>\n",
       "      <td>0</td>\n",
       "      <td>0</td>\n",
       "      <td>0</td>\n",
       "      <td>0</td>\n",
       "      <td>5.7060</td>\n",
       "      <td>69</td>\n",
       "      <td>718</td>\n",
       "      <td>0</td>\n",
       "      <td>16</td>\n",
       "      <td>OUT</td>\n",
       "    </tr>\n",
       "    <tr>\n",
       "      <th>24405</th>\n",
       "      <td>epc_99</td>\n",
       "      <td>9_8</td>\n",
       "      <td>-46.0</td>\n",
       "      <td>-44.0</td>\n",
       "      <td>-110.0</td>\n",
       "      <td>-64.0</td>\n",
       "      <td>-56.0</td>\n",
       "      <td>-110.0</td>\n",
       "      <td>-68.0</td>\n",
       "      <td>-67.0</td>\n",
       "      <td>...</td>\n",
       "      <td>0</td>\n",
       "      <td>0</td>\n",
       "      <td>0</td>\n",
       "      <td>0</td>\n",
       "      <td>5.6160</td>\n",
       "      <td>63</td>\n",
       "      <td>674</td>\n",
       "      <td>0</td>\n",
       "      <td>16</td>\n",
       "      <td>OUT</td>\n",
       "    </tr>\n",
       "    <tr>\n",
       "      <th>24406</th>\n",
       "      <td>epc_99</td>\n",
       "      <td>9_9</td>\n",
       "      <td>-47.0</td>\n",
       "      <td>-48.0</td>\n",
       "      <td>-110.0</td>\n",
       "      <td>-71.0</td>\n",
       "      <td>-63.0</td>\n",
       "      <td>-110.0</td>\n",
       "      <td>-61.0</td>\n",
       "      <td>-61.0</td>\n",
       "      <td>...</td>\n",
       "      <td>0</td>\n",
       "      <td>0</td>\n",
       "      <td>0</td>\n",
       "      <td>0</td>\n",
       "      <td>11.1730</td>\n",
       "      <td>65</td>\n",
       "      <td>1462</td>\n",
       "      <td>0</td>\n",
       "      <td>16</td>\n",
       "      <td>OUT</td>\n",
       "    </tr>\n",
       "  </tbody>\n",
       "</table>\n",
       "<p>24407 rows × 32 columns</p>\n",
       "</div>"
      ],
      "text/plain": [
       "          Epc reflist_run_id  down_0_out_rssi  down_1_out_rssi  up_1_out_rssi  \\\n",
       "0       epc_0           0_10            -67.0            -63.0          -64.0   \n",
       "1       epc_0           0_19            -69.0           -110.0         -110.0   \n",
       "2       epc_0           0_21            -65.0           -110.0         -110.0   \n",
       "3       epc_0           0_27            -69.0           -110.0         -110.0   \n",
       "4       epc_0           0_29            -65.0           -110.0         -110.0   \n",
       "...       ...            ...              ...              ...            ...   \n",
       "24402  epc_99            9_5            -48.0            -50.0         -110.0   \n",
       "24403  epc_99            9_6            -47.0            -47.0          -59.0   \n",
       "24404  epc_99            9_7            -44.0            -47.0         -110.0   \n",
       "24405  epc_99            9_8            -46.0            -44.0         -110.0   \n",
       "24406  epc_99            9_9            -47.0            -48.0         -110.0   \n",
       "\n",
       "       mid_0_out_rssi  mid_1_out_rssi  up_0_out_rssi  down_0_in_rssi  \\\n",
       "0              -110.0          -110.0         -110.0          -110.0   \n",
       "1               -68.0          -110.0         -110.0          -110.0   \n",
       "2              -110.0          -110.0         -110.0          -110.0   \n",
       "3              -110.0          -110.0         -110.0          -110.0   \n",
       "4              -110.0          -110.0         -110.0          -110.0   \n",
       "...               ...             ...            ...             ...   \n",
       "24402          -110.0           -64.0         -110.0           -66.0   \n",
       "24403           -46.0           -43.0          -56.0           -62.0   \n",
       "24404           -63.0           -51.0         -110.0           -70.0   \n",
       "24405           -64.0           -56.0         -110.0           -68.0   \n",
       "24406           -71.0           -63.0         -110.0           -61.0   \n",
       "\n",
       "       down_1_in_rssi  ...  mid_0_in_rc  mid_1_in_rc  up_1_in_rc  up_0_in_rc  \\\n",
       "0              -110.0  ...            0            0           0           0   \n",
       "1              -110.0  ...            0            0           0           0   \n",
       "2              -110.0  ...            0            0           0           0   \n",
       "3              -110.0  ...            0            0           0           0   \n",
       "4              -110.0  ...            0            0           0           0   \n",
       "...               ...  ...          ...          ...         ...         ...   \n",
       "24402           -66.0  ...            0            0           0           0   \n",
       "24403           -61.0  ...            2            6           0           0   \n",
       "24404           -63.0  ...            0            0           0           0   \n",
       "24405           -67.0  ...            0            0           0           0   \n",
       "24406           -61.0  ...            0            0           0           0   \n",
       "\n",
       "       window_width  Epcs_window  reads_window  refListId_actual  \\\n",
       "0           11.4625           74          1526                 5   \n",
       "1           15.7040           72          2241                 5   \n",
       "2            6.0845           71           897                 5   \n",
       "3            5.8215           55           740                 5   \n",
       "4            5.7655           61           708                 5   \n",
       "...             ...          ...           ...               ...   \n",
       "24402        6.7370           78           841                 0   \n",
       "24403        5.9590           70           831                 0   \n",
       "24404        5.7060           69           718                 0   \n",
       "24405        5.6160           63           674                 0   \n",
       "24406       11.1730           65          1462                 0   \n",
       "\n",
       "       Q refListId_actual  actual  \n",
       "0                      40     OUT  \n",
       "1                      40     OUT  \n",
       "2                      40     OUT  \n",
       "3                      40     OUT  \n",
       "4                      40     OUT  \n",
       "...                   ...     ...  \n",
       "24402                  16     OUT  \n",
       "24403                  16     OUT  \n",
       "24404                  16     OUT  \n",
       "24405                  16     OUT  \n",
       "24406                  16     OUT  \n",
       "\n",
       "[24407 rows x 32 columns]"
      ]
     },
     "execution_count": 6,
     "metadata": {},
     "output_type": "execute_result"
    }
   ],
   "source": [
    "ds"
   ]
  },
  {
   "cell_type": "code",
   "execution_count": 7,
   "id": "def472e4-49a6-46be-a9c8-8bb4beb48485",
   "metadata": {
    "tags": []
   },
   "outputs": [
    {
     "name": "stderr",
     "output_type": "stream",
     "text": [
      "C:\\Users\\46425238\\AppData\\Local\\Temp\\ipykernel_3884\\2680203562.py:211: DeprecationWarning: In future, it will be an error for 'np.bool_' scalars to be interpreted as an index\n",
      "  X_rssi = [x for x in colonne if rssi*'rssi' in x.split('_')]\n",
      "C:\\Users\\46425238\\AppData\\Local\\Temp\\ipykernel_3884\\2680203562.py:212: DeprecationWarning: In future, it will be an error for 'np.bool_' scalars to be interpreted as an index\n",
      "  X_rc = [x for x in colonne if rc*'rc' in x.split('_')]\n"
     ]
    }
   ],
   "source": [
    "# Getting X and y \n",
    "X = ds[Xcols_func('all',ds.columns)]\n",
    "y = pd.DataFrame(LabelEncoder().fit_transform(ds['actual']))"
   ]
  },
  {
   "cell_type": "code",
   "execution_count": null,
   "id": "2f06f7a6-2a91-465d-aa2e-d91bc495f890",
   "metadata": {},
   "outputs": [],
   "source": []
  },
  {
   "cell_type": "code",
   "execution_count": 8,
   "id": "72bb2186-e88f-465e-8098-839d077e624d",
   "metadata": {
    "tags": []
   },
   "outputs": [],
   "source": [
    "X_train, X_test, y_train, y_test = train_test_split(X,y, test_size = 0.2)"
   ]
  },
  {
   "cell_type": "code",
   "execution_count": 27,
   "id": "50e3c063-85b1-4a83-aa0b-be30daecfffa",
   "metadata": {
    "tags": []
   },
   "outputs": [
    {
     "data": {
      "text/plain": [
       "1    17539\n",
       "0     6868\n",
       "dtype: int64"
      ]
     },
     "execution_count": 27,
     "metadata": {},
     "output_type": "execute_result"
    }
   ],
   "source": [
    "pd.Series(y).value_counts()"
   ]
  },
  {
   "cell_type": "code",
   "execution_count": 13,
   "id": "b407a686-2c16-4686-91a4-ea207cbc3360",
   "metadata": {},
   "outputs": [],
   "source": [
    "rf_params = {\n",
    "    \"n_estimators\":list(range(1,70)),\n",
    "    \"max_depth\":list(range(1,45)),\n",
    "    \"min_samples_leaf\":list(range(1,45)),\n",
    "    'criterion_index' : [\"gini\",\"entropy\",\"log_loss\"],\n",
    "    \"min_samples_split_index\":list(range(1,70)),\n",
    "    \"min_weight_fraction_leaf_index\": [x*0.05 for x in range(1,60)],\n",
    "    \"max_features_index\": ['sqrt','log2',None],\n",
    "    \"max_leaf_nodes_index\":[x for x in range(1,30)],\n",
    "     \"min_impurity_decrease_index\": [x * 0.25 for x in range(1,40)],\n",
    "     \"bootstrap_index\":[True,False],\n",
    "     \"oob_score_index\":[True,False],\n",
    "      \"n_jobs_index\": [x for x in range(1,30)],\n",
    "      \"random_state_index\":[x for x in range(1,30)],\n",
    "       \"verbose_index\":[x for x in range(1,20)],\n",
    "       \"warm_start_index\": [True,False],\n",
    "       \"class_weight_index\": [None, \"balanced\", \"balanced_subsample\"],\n",
    "      \"ccp_alpha_index\":[x * 0.25 for x in range(1,40)],\n",
    "        \"max_samples_index\": [x for x in range(1,30)]    \n",
    "}"
   ]
  },
  {
   "cell_type": "code",
   "execution_count": null,
   "id": "e4bee332-0d93-429c-ac51-fbe22c2cccb4",
   "metadata": {},
   "outputs": [],
   "source": [
    "svm_params = {\n",
    "    \"C\":[0.0, 0.05, 0.1, 0.15, 0.2, 0.25, 0.3, 0.35, 0.4,\n",
    "                               0.45, 0.5, 0.55, 0.6, 0.65, 0.7, 0.75, 0.8, 0.85,\n",
    "                               0.9, 0.95, 1.0, 1.2, 1.4, 1.6, 1.8, 2.0, 2.2,\n",
    "                               2.4, 2.6, 2.8],\n",
    "    \"kernel\":[\"rbf\"],\n",
    "    \"coef0\": [ x for x in range(1,40)],\n",
    "    \"shrinking\":[True,False],\n",
    "    \"probability\" : [True,False],\n",
    "    \"tol\":[ x * 0.25 for x in range(1,34)],\n",
    "    \"cache_size\" : [x in for x range(5,10,205)],\n",
    "    \"class_weight\": [None, \"balanced\"],\n",
    "    \"verbose\":[True,False]\n",
    "    \"max_iter=max_iter, decision_function_shape=decision_function_shape, \":5,\n",
    "\"break_ties=break_ties, random_state=random_state\" :5\n",
    "}"
   ]
  },
  {
   "cell_type": "code",
   "execution_count": null,
   "id": "2944c990-db4d-4b9e-917f-c55e1d5c71ad",
   "metadata": {},
   "outputs": [],
   "source": []
  },
  {
   "cell_type": "code",
   "execution_count": 62,
   "id": "895df338-070f-4751-a36d-05d82d221c97",
   "metadata": {
    "tags": []
   },
   "outputs": [],
   "source": [
    "grid = GridSearchCV(rf,hp[\"RandomForest\"] , cv = 5, n_jobs = 4, verbose = 2)\n",
    "# n_jobs will help gridsearchCV to run faster and properly"
   ]
  },
  {
   "cell_type": "code",
   "execution_count": 63,
   "id": "ab3c2fdd-7cb6-4412-950c-76c91a843f34",
   "metadata": {
    "tags": []
   },
   "outputs": [
    {
     "name": "stdout",
     "output_type": "stream",
     "text": [
      "Fitting 5 folds for each of 3960 candidates, totalling 19800 fits\n"
     ]
    },
    {
     "data": {
      "text/html": [
       "<style>#sk-container-id-2 {color: black;}#sk-container-id-2 pre{padding: 0;}#sk-container-id-2 div.sk-toggleable {background-color: white;}#sk-container-id-2 label.sk-toggleable__label {cursor: pointer;display: block;width: 100%;margin-bottom: 0;padding: 0.3em;box-sizing: border-box;text-align: center;}#sk-container-id-2 label.sk-toggleable__label-arrow:before {content: \"▸\";float: left;margin-right: 0.25em;color: #696969;}#sk-container-id-2 label.sk-toggleable__label-arrow:hover:before {color: black;}#sk-container-id-2 div.sk-estimator:hover label.sk-toggleable__label-arrow:before {color: black;}#sk-container-id-2 div.sk-toggleable__content {max-height: 0;max-width: 0;overflow: hidden;text-align: left;background-color: #f0f8ff;}#sk-container-id-2 div.sk-toggleable__content pre {margin: 0.2em;color: black;border-radius: 0.25em;background-color: #f0f8ff;}#sk-container-id-2 input.sk-toggleable__control:checked~div.sk-toggleable__content {max-height: 200px;max-width: 100%;overflow: auto;}#sk-container-id-2 input.sk-toggleable__control:checked~label.sk-toggleable__label-arrow:before {content: \"▾\";}#sk-container-id-2 div.sk-estimator input.sk-toggleable__control:checked~label.sk-toggleable__label {background-color: #d4ebff;}#sk-container-id-2 div.sk-label input.sk-toggleable__control:checked~label.sk-toggleable__label {background-color: #d4ebff;}#sk-container-id-2 input.sk-hidden--visually {border: 0;clip: rect(1px 1px 1px 1px);clip: rect(1px, 1px, 1px, 1px);height: 1px;margin: -1px;overflow: hidden;padding: 0;position: absolute;width: 1px;}#sk-container-id-2 div.sk-estimator {font-family: monospace;background-color: #f0f8ff;border: 1px dotted black;border-radius: 0.25em;box-sizing: border-box;margin-bottom: 0.5em;}#sk-container-id-2 div.sk-estimator:hover {background-color: #d4ebff;}#sk-container-id-2 div.sk-parallel-item::after {content: \"\";width: 100%;border-bottom: 1px solid gray;flex-grow: 1;}#sk-container-id-2 div.sk-label:hover label.sk-toggleable__label {background-color: #d4ebff;}#sk-container-id-2 div.sk-serial::before {content: \"\";position: absolute;border-left: 1px solid gray;box-sizing: border-box;top: 0;bottom: 0;left: 50%;z-index: 0;}#sk-container-id-2 div.sk-serial {display: flex;flex-direction: column;align-items: center;background-color: white;padding-right: 0.2em;padding-left: 0.2em;position: relative;}#sk-container-id-2 div.sk-item {position: relative;z-index: 1;}#sk-container-id-2 div.sk-parallel {display: flex;align-items: stretch;justify-content: center;background-color: white;position: relative;}#sk-container-id-2 div.sk-item::before, #sk-container-id-2 div.sk-parallel-item::before {content: \"\";position: absolute;border-left: 1px solid gray;box-sizing: border-box;top: 0;bottom: 0;left: 50%;z-index: -1;}#sk-container-id-2 div.sk-parallel-item {display: flex;flex-direction: column;z-index: 1;position: relative;background-color: white;}#sk-container-id-2 div.sk-parallel-item:first-child::after {align-self: flex-end;width: 50%;}#sk-container-id-2 div.sk-parallel-item:last-child::after {align-self: flex-start;width: 50%;}#sk-container-id-2 div.sk-parallel-item:only-child::after {width: 0;}#sk-container-id-2 div.sk-dashed-wrapped {border: 1px dashed gray;margin: 0 0.4em 0.5em 0.4em;box-sizing: border-box;padding-bottom: 0.4em;background-color: white;}#sk-container-id-2 div.sk-label label {font-family: monospace;font-weight: bold;display: inline-block;line-height: 1.2em;}#sk-container-id-2 div.sk-label-container {text-align: center;}#sk-container-id-2 div.sk-container {/* jupyter's `normalize.less` sets `[hidden] { display: none; }` but bootstrap.min.css set `[hidden] { display: none !important; }` so we also need the `!important` here to be able to override the default hidden behavior on the sphinx rendered scikit-learn.org. See: https://github.com/scikit-learn/scikit-learn/issues/21755 */display: inline-block !important;position: relative;}#sk-container-id-2 div.sk-text-repr-fallback {display: none;}</style><div id=\"sk-container-id-2\" class=\"sk-top-container\"><div class=\"sk-text-repr-fallback\"><pre>GridSearchCV(cv=5, estimator=RandomForestClassifier(), n_jobs=4,\n",
       "             param_grid={&#x27;max_depth&#x27;: [1, 3, 5, 7, 9, 11, 13, 15, 17, 19, 21,\n",
       "                                       23, 25, 27, 29],\n",
       "                         &#x27;min_samples_leaf&#x27;: [1, 3, 5, 7, 9, 11, 13, 15, 17, 19,\n",
       "                                              21, 23],\n",
       "                         &#x27;n_estimators&#x27;: [1, 3, 5, 7, 9, 11, 13, 15, 17, 19, 21,\n",
       "                                          23, 25, 27, 29, 31, 33, 35, 37, 39,\n",
       "                                          41, 43]},\n",
       "             verbose=2)</pre><b>In a Jupyter environment, please rerun this cell to show the HTML representation or trust the notebook. <br />On GitHub, the HTML representation is unable to render, please try loading this page with nbviewer.org.</b></div><div class=\"sk-container\" hidden><div class=\"sk-item sk-dashed-wrapped\"><div class=\"sk-label-container\"><div class=\"sk-label sk-toggleable\"><input class=\"sk-toggleable__control sk-hidden--visually\" id=\"sk-estimator-id-4\" type=\"checkbox\" ><label for=\"sk-estimator-id-4\" class=\"sk-toggleable__label sk-toggleable__label-arrow\">GridSearchCV</label><div class=\"sk-toggleable__content\"><pre>GridSearchCV(cv=5, estimator=RandomForestClassifier(), n_jobs=4,\n",
       "             param_grid={&#x27;max_depth&#x27;: [1, 3, 5, 7, 9, 11, 13, 15, 17, 19, 21,\n",
       "                                       23, 25, 27, 29],\n",
       "                         &#x27;min_samples_leaf&#x27;: [1, 3, 5, 7, 9, 11, 13, 15, 17, 19,\n",
       "                                              21, 23],\n",
       "                         &#x27;n_estimators&#x27;: [1, 3, 5, 7, 9, 11, 13, 15, 17, 19, 21,\n",
       "                                          23, 25, 27, 29, 31, 33, 35, 37, 39,\n",
       "                                          41, 43]},\n",
       "             verbose=2)</pre></div></div></div><div class=\"sk-parallel\"><div class=\"sk-parallel-item\"><div class=\"sk-item\"><div class=\"sk-label-container\"><div class=\"sk-label sk-toggleable\"><input class=\"sk-toggleable__control sk-hidden--visually\" id=\"sk-estimator-id-5\" type=\"checkbox\" ><label for=\"sk-estimator-id-5\" class=\"sk-toggleable__label sk-toggleable__label-arrow\">estimator: RandomForestClassifier</label><div class=\"sk-toggleable__content\"><pre>RandomForestClassifier()</pre></div></div></div><div class=\"sk-serial\"><div class=\"sk-item\"><div class=\"sk-estimator sk-toggleable\"><input class=\"sk-toggleable__control sk-hidden--visually\" id=\"sk-estimator-id-6\" type=\"checkbox\" ><label for=\"sk-estimator-id-6\" class=\"sk-toggleable__label sk-toggleable__label-arrow\">RandomForestClassifier</label><div class=\"sk-toggleable__content\"><pre>RandomForestClassifier()</pre></div></div></div></div></div></div></div></div></div></div>"
      ],
      "text/plain": [
       "GridSearchCV(cv=5, estimator=RandomForestClassifier(), n_jobs=4,\n",
       "             param_grid={'max_depth': [1, 3, 5, 7, 9, 11, 13, 15, 17, 19, 21,\n",
       "                                       23, 25, 27, 29],\n",
       "                         'min_samples_leaf': [1, 3, 5, 7, 9, 11, 13, 15, 17, 19,\n",
       "                                              21, 23],\n",
       "                         'n_estimators': [1, 3, 5, 7, 9, 11, 13, 15, 17, 19, 21,\n",
       "                                          23, 25, 27, 29, 31, 33, 35, 37, 39,\n",
       "                                          41, 43]},\n",
       "             verbose=2)"
      ]
     },
     "execution_count": 63,
     "metadata": {},
     "output_type": "execute_result"
    }
   ],
   "source": [
    "grid.fit(X_train, y_train)"
   ]
  },
  {
   "cell_type": "code",
   "execution_count": 65,
   "id": "087d38c5-fd18-41d8-baa4-3af182d5fb44",
   "metadata": {
    "tags": []
   },
   "outputs": [
    {
     "data": {
      "text/plain": [
       "{'max_depth': 17, 'min_samples_leaf': 1, 'n_estimators': 33}"
      ]
     },
     "execution_count": 65,
     "metadata": {},
     "output_type": "execute_result"
    }
   ],
   "source": [
    "grid.best_params_"
   ]
  },
  {
   "cell_type": "code",
   "execution_count": 13,
   "id": "8098c316-3fd1-4490-99ca-a06461aad2ed",
   "metadata": {},
   "outputs": [],
   "source": [
    "def plot_validation_curves(model, train_X, train_y, hyper_parameter:str, parameter_range, \n",
    "                           folders:int, savepath:str):\n",
    "    start = datetime.datetime.now()\n",
    "    \n",
    "    train_scores, val_scores = validation_curve(model, train_X, train_y, param_name = hyper_parameter,\n",
    "                                                     param_range = np.array(parameter_range), cv = folders)\n",
    "    \n",
    "    # curves \n",
    "    plt.plot(parameter_range, train_scores, 'y-', label = \"score à l\\'entrainement\")\n",
    "    plt.plot(parameter_range, val_scores, 'r-', label = \"score à la validation\")\n",
    "     \n",
    "    # Ajouter un titre et des légendes pour l'axe x et l'axe y\n",
    "    plt.title('Précision de '+ type(model).__name__ + 'en fonction de ' + hyper_parameter ) # titre\n",
    "    plt.xlabel('Valeurs de ' + hyper_parameter) # légende de l'axe des abscisses\n",
    "    plt.ylabel('Valeurs de précision') # légende de l'axe des ordonées\n",
    "    \n",
    "    # légende\n",
    "    plt.legend() \n",
    "    plt.grid(True)\n",
    "    \n",
    "    # Sauvegarde des graphes\n",
    "    plt.savefig(savepath, dpi = 300)\n",
    "    \n",
    "    #print('min22 :',df_month['value22'].max(),'\\nMin23 :', df_month['value23'].max())\n",
    "    plt.show() # Affichage de la figure\n",
    "    end = datetime.datetime.now()\n",
    "    print('Duree de curve_validation_plot : {}'.format(end-start))\n",
    "    "
   ]
  },
  {
   "cell_type": "code",
   "execution_count": 48,
   "id": "53b8654c-8d61-4810-8b43-33271a5d6500",
   "metadata": {
    "tags": []
   },
   "outputs": [
    {
     "data": {
      "image/png": "[encoded data removed]",
      "text/plain": [
       "<Figure size 640x480 with 1 Axes>"
      ]
     },
     "metadata": {},
     "output_type": "display_data"
    },
    {
     "name": "stdout",
     "output_type": "stream",
     "text": [
      "Duree de curve_validation_plot : 0:00:18.412926\n"
     ]
    }
   ],
   "source": [
    "rf = RandomForestClassifier(max_depth = 17, min_samples_leaf= 1)\n",
    "plot_validation_curves(rf, X_train, y_train, 'n_estimators', list(range(1, 40, 5)), 5,\\\n",
    "                          'ML/courbes/RandomForest/n_estimators')"
   ]
  },
  {
   "cell_type": "code",
   "execution_count": null,
   "id": "0fce4e7d-d526-41ed-806a-d2f70aa9f5bf",
   "metadata": {},
   "outputs": [],
   "source": [
    "rf = RandomForestClassifier(max_depth = 17, n_estimators = 33)\n",
    "plot_validation_curves(rf, X_train, y_train, 'min_samples_leaf', list(range(1, 10)), 5,\\\n",
    "                          'ML/courbes/RandomForest/min_samples_leaf')"
   ]
  },
  {
   "cell_type": "code",
   "execution_count": null,
   "id": "0fcdbb9e-76b3-4138-8f12-5ea30f1691fa",
   "metadata": {},
   "outputs": [],
   "source": [
    "rf = RandomForestClassifier(min_samples_leaf = 1, n_estimators = 33)\n",
    "plot_validation_curves(rf, X_train, y_train, 'max_depth', list(range(1, 20)), 5,\\\n",
    "                          'ML/courbes/RandomForest/max_depth')"
   ]
  },
  {
   "cell_type": "code",
   "execution_count": 47,
   "id": "af972b18-e7f5-4b01-a7fc-6e1f5e3a7ccd",
   "metadata": {
    "tags": []
   },
   "outputs": [],
   "source": [
    "grid_knn = GridSearchCV(knn,hp[\"KNN\"] , cv = 5, n_jobs = 4, verbose = 2)"
   ]
  },
  {
   "cell_type": "code",
   "execution_count": 49,
   "id": "fda630f3-bf13-407f-b3d2-2a406f6b8448",
   "metadata": {
    "tags": []
   },
   "outputs": [
    {
     "name": "stdout",
     "output_type": "stream",
     "text": [
      "2024-04-25 20:22:04.311792\n"
     ]
    }
   ],
   "source": [
    "print(datetime.datetime.now())"
   ]
  },
  {
   "cell_type": "code",
   "execution_count": 50,
   "id": "c4279812-5e59-47b0-9c3a-a226003c54e8",
   "metadata": {
    "tags": []
   },
   "outputs": [
    {
     "data": {
      "text/plain": [
       "{'metric': 'manhattan', 'n_neighbors': 8, 'weights': 'distance'}"
      ]
     },
     "execution_count": 50,
     "metadata": {},
     "output_type": "execute_result"
    }
   ],
   "source": [
    "grid_knn.best_params_"
   ]
  },
  {
   "cell_type": "code",
   "execution_count": 48,
   "id": "5ed00009-07c4-4fb1-9a19-4d42f9cbf10c",
   "metadata": {
    "tags": []
   },
   "outputs": [],
   "source": [
    "C =  [ round(x * 0.05, 3) for x in range(20)] + [round(x * 0.2, 3) for x in range(5,15)]\n",
    "gammas = ['scale']\n",
    "kernels = ['rbf']\n",
    "# gammas = ['scale', 'auto']\n",
    "# kernels = ['rbf','linear','poly', 'sygmoid']"
   ]
  },
  {
   "cell_type": "code",
   "execution_count": 50,
   "id": "adc55aeb-9f86-4a0e-94a4-b8fc174e5559",
   "metadata": {
    "tags": []
   },
   "outputs": [],
   "source": [
    "hp = {\n",
    "    \"RandomForest\":{\"n_estimators\" :estimators, \"max_depth\":depth, \"min_samples_leaf\":leaves},\n",
    "    \"SVM\" : {\"gamma\":gammas, \"C\":C, \"kernel\":kernels},\n",
    "    \"KNN\" : {\"n_neighbors\":neighbors,\"weights\":weights, \"metric\":metrics }\n",
    "}"
   ]
  },
  {
   "cell_type": "code",
   "execution_count": 71,
   "id": "a025ecee-71db-41f7-8a20-40bc64d9601b",
   "metadata": {},
   "outputs": [
    {
     "data": {
      "image/png": "[encoded data removed]",
      "text/plain": [
       "<Figure size 640x480 with 1 Axes>"
      ]
     },
     "metadata": {},
     "output_type": "display_data"
    },
    {
     "name": "stdout",
     "output_type": "stream",
     "text": [
      "Temps pour obtenir la courbe : 0:00:32.167054 \n"
     ]
    }
   ],
   "source": [
    "start = datetime.datetime.now()\n",
    "scores = []\n",
    "for leave in leaves:\n",
    "    X_train, X_test, y_train, y_test = train_test_split(X, y, test_size = 0.2)\n",
    "    rf = RandomForestClassifier(n_estimators= 33, min_samples_leaf = leave, max_depth = 17)\n",
    "    rf.fit(X_train, y_train)\n",
    "    y_pred = rf.predict(X_test)\n",
    "    acc = accuracy_score(y_test, y_pred)\n",
    "    scores.append(acc)\n",
    "    \n",
    "plt.plot(leaves, scores, 'g.-')\n",
    "plt.title(\"Précision du RandomForest en fonction de min_samples_leaf\")\n",
    "plt.grid(True)\n",
    "plt.savefig(\"ML/courbes/precision/RandomForest/min_samples_leaf.png\", dpi=300)\n",
    "plt.show()\n",
    "duree_rf_ = datetime.datetime.now() - start\n",
    "print (\"Temps pour obtenir la courbe : {} \".format(duree_rf_))"
   ]
  },
  {
   "cell_type": "code",
   "execution_count": 63,
   "id": "ed811251-4491-4be0-999b-7235ac11a97d",
   "metadata": {
    "tags": []
   },
   "outputs": [
    {
     "data": {
      "image/png": "[encoded data removed]",
      "text/plain": [
       "<Figure size 640x480 with 1 Axes>"
      ]
     },
     "metadata": {},
     "output_type": "display_data"
    }
   ],
   "source": [
    "plt.plot(estimators, scores, 'r.-')\n",
    "plt.title(\"Précision du RandomForest en fonction de n_estimators\")\n",
    "plt.grid(True)\n",
    "plt.savefig(\"ML/courbes/precision/RandomForest/n_estimators.png\", dpi=300)\n",
    "plt.show()"
   ]
  },
  {
   "cell_type": "code",
   "execution_count": 51,
   "id": "5dbfa931-12c8-4330-b415-7d46c4f20493",
   "metadata": {
    "tags": []
   },
   "outputs": [],
   "source": [
    "grid_svm = GridSearchCV(svm,hp[\"SVM\"] , cv = 2, n_jobs = 4, verbose = 2)"
   ]
  },
  {
   "cell_type": "code",
   "execution_count": 52,
   "id": "84c22afc-c50d-4c4c-9c63-1b35dabe06ac",
   "metadata": {},
   "outputs": [
    {
     "name": "stdout",
     "output_type": "stream",
     "text": [
      "Fitting 2 folds for each of 30 candidates, totalling 60 fits\n"
     ]
    },
    {
     "name": "stderr",
     "output_type": "stream",
     "text": [
      "C:\\logiciels\\anaconda3\\lib\\site-packages\\sklearn\\model_selection\\_validation.py:378: FitFailedWarning: \n",
      "2 fits failed out of a total of 60.\n",
      "The score on these train-test partitions for these parameters will be set to nan.\n",
      "If these failures are not expected, you can try to debug them by setting error_score='raise'.\n",
      "\n",
      "Below are more details about the failures:\n",
      "--------------------------------------------------------------------------------\n",
      "2 fits failed with the following error:\n",
      "Traceback (most recent call last):\n",
      "  File \"C:\\logiciels\\anaconda3\\lib\\site-packages\\sklearn\\model_selection\\_validation.py\", line 686, in _fit_and_score\n",
      "    estimator.fit(X_train, y_train, **fit_params)\n",
      "  File \"C:\\logiciels\\anaconda3\\lib\\site-packages\\sklearn\\svm\\_base.py\", line 180, in fit\n",
      "    self._validate_params()\n",
      "  File \"C:\\logiciels\\anaconda3\\lib\\site-packages\\sklearn\\base.py\", line 581, in _validate_params\n",
      "    validate_parameter_constraints(\n",
      "  File \"C:\\logiciels\\anaconda3\\lib\\site-packages\\sklearn\\utils\\_param_validation.py\", line 97, in validate_parameter_constraints\n",
      "    raise InvalidParameterError(\n",
      "sklearn.utils._param_validation.InvalidParameterError: The 'C' parameter of SVC must be a float in the range (0.0, inf). Got 0.0 instead.\n",
      "\n",
      "  warnings.warn(some_fits_failed_message, FitFailedWarning)\n",
      "C:\\logiciels\\anaconda3\\lib\\site-packages\\sklearn\\model_selection\\_search.py:952: UserWarning: One or more of the test scores are non-finite: [       nan 0.9791037  0.98069137 0.98294487 0.98402043 0.98468623\n",
      " 0.98560811 0.98642756 0.98704216 0.98775922 0.98806651 0.98816894\n",
      " 0.98857865 0.989142   0.99006389 0.99021754 0.99072972 0.99078093\n",
      " 0.99103701 0.99103701 0.99098579 0.99103702 0.99119069 0.99144678\n",
      " 0.99165165 0.99180531 0.99190774 0.9918053  0.99190774 0.99195896]\n",
      "  warnings.warn(\n",
      "C:\\logiciels\\anaconda3\\lib\\site-packages\\sklearn\\utils\\validation.py:1143: DataConversionWarning: A column-vector y was passed when a 1d array was expected. Please change the shape of y to (n_samples, ), for example using ravel().\n",
      "  y = column_or_1d(y, warn=True)\n"
     ]
    },
    {
     "data": {
      "text/html": [
       "<style>#sk-container-id-1 {color: black;background-color: white;}#sk-container-id-1 pre{padding: 0;}#sk-container-id-1 div.sk-toggleable {background-color: white;}#sk-container-id-1 label.sk-toggleable__label {cursor: pointer;display: block;width: 100%;margin-bottom: 0;padding: 0.3em;box-sizing: border-box;text-align: center;}#sk-container-id-1 label.sk-toggleable__label-arrow:before {content: \"▸\";float: left;margin-right: 0.25em;color: #696969;}#sk-container-id-1 label.sk-toggleable__label-arrow:hover:before {color: black;}#sk-container-id-1 div.sk-estimator:hover label.sk-toggleable__label-arrow:before {color: black;}#sk-container-id-1 div.sk-toggleable__content {max-height: 0;max-width: 0;overflow: hidden;text-align: left;background-color: #f0f8ff;}#sk-container-id-1 div.sk-toggleable__content pre {margin: 0.2em;color: black;border-radius: 0.25em;background-color: #f0f8ff;}#sk-container-id-1 input.sk-toggleable__control:checked~div.sk-toggleable__content {max-height: 200px;max-width: 100%;overflow: auto;}#sk-container-id-1 input.sk-toggleable__control:checked~label.sk-toggleable__label-arrow:before {content: \"▾\";}#sk-container-id-1 div.sk-estimator input.sk-toggleable__control:checked~label.sk-toggleable__label {background-color: #d4ebff;}#sk-container-id-1 div.sk-label input.sk-toggleable__control:checked~label.sk-toggleable__label {background-color: #d4ebff;}#sk-container-id-1 input.sk-hidden--visually {border: 0;clip: rect(1px 1px 1px 1px);clip: rect(1px, 1px, 1px, 1px);height: 1px;margin: -1px;overflow: hidden;padding: 0;position: absolute;width: 1px;}#sk-container-id-1 div.sk-estimator {font-family: monospace;background-color: #f0f8ff;border: 1px dotted black;border-radius: 0.25em;box-sizing: border-box;margin-bottom: 0.5em;}#sk-container-id-1 div.sk-estimator:hover {background-color: #d4ebff;}#sk-container-id-1 div.sk-parallel-item::after {content: \"\";width: 100%;border-bottom: 1px solid gray;flex-grow: 1;}#sk-container-id-1 div.sk-label:hover label.sk-toggleable__label {background-color: #d4ebff;}#sk-container-id-1 div.sk-serial::before {content: \"\";position: absolute;border-left: 1px solid gray;box-sizing: border-box;top: 0;bottom: 0;left: 50%;z-index: 0;}#sk-container-id-1 div.sk-serial {display: flex;flex-direction: column;align-items: center;background-color: white;padding-right: 0.2em;padding-left: 0.2em;position: relative;}#sk-container-id-1 div.sk-item {position: relative;z-index: 1;}#sk-container-id-1 div.sk-parallel {display: flex;align-items: stretch;justify-content: center;background-color: white;position: relative;}#sk-container-id-1 div.sk-item::before, #sk-container-id-1 div.sk-parallel-item::before {content: \"\";position: absolute;border-left: 1px solid gray;box-sizing: border-box;top: 0;bottom: 0;left: 50%;z-index: -1;}#sk-container-id-1 div.sk-parallel-item {display: flex;flex-direction: column;z-index: 1;position: relative;background-color: white;}#sk-container-id-1 div.sk-parallel-item:first-child::after {align-self: flex-end;width: 50%;}#sk-container-id-1 div.sk-parallel-item:last-child::after {align-self: flex-start;width: 50%;}#sk-container-id-1 div.sk-parallel-item:only-child::after {width: 0;}#sk-container-id-1 div.sk-dashed-wrapped {border: 1px dashed gray;margin: 0 0.4em 0.5em 0.4em;box-sizing: border-box;padding-bottom: 0.4em;background-color: white;}#sk-container-id-1 div.sk-label label {font-family: monospace;font-weight: bold;display: inline-block;line-height: 1.2em;}#sk-container-id-1 div.sk-label-container {text-align: center;}#sk-container-id-1 div.sk-container {/* jupyter's `normalize.less` sets `[hidden] { display: none; }` but bootstrap.min.css set `[hidden] { display: none !important; }` so we also need the `!important` here to be able to override the default hidden behavior on the sphinx rendered scikit-learn.org. See: https://github.com/scikit-learn/scikit-learn/issues/21755 */display: inline-block !important;position: relative;}#sk-container-id-1 div.sk-text-repr-fallback {display: none;}</style><div id=\"sk-container-id-1\" class=\"sk-top-container\"><div class=\"sk-text-repr-fallback\"><pre>GridSearchCV(cv=2, estimator=SVC(), n_jobs=4,\n",
       "             param_grid={&#x27;C&#x27;: [0.0, 0.05, 0.1, 0.15, 0.2, 0.25, 0.3, 0.35, 0.4,\n",
       "                               0.45, 0.5, 0.55, 0.6, 0.65, 0.7, 0.75, 0.8, 0.85,\n",
       "                               0.9, 0.95, 1.0, 1.2, 1.4, 1.6, 1.8, 2.0, 2.2,\n",
       "                               2.4, 2.6, 2.8],\n",
       "                         &#x27;gamma&#x27;: [&#x27;scale&#x27;], &#x27;kernel&#x27;: [&#x27;rbf&#x27;]},\n",
       "             verbose=2)</pre><b>In a Jupyter environment, please rerun this cell to show the HTML representation or trust the notebook. <br />On GitHub, the HTML representation is unable to render, please try loading this page with nbviewer.org.</b></div><div class=\"sk-container\" hidden><div class=\"sk-item sk-dashed-wrapped\"><div class=\"sk-label-container\"><div class=\"sk-label sk-toggleable\"><input class=\"sk-toggleable__control sk-hidden--visually\" id=\"sk-estimator-id-1\" type=\"checkbox\" ><label for=\"sk-estimator-id-1\" class=\"sk-toggleable__label sk-toggleable__label-arrow\">GridSearchCV</label><div class=\"sk-toggleable__content\"><pre>GridSearchCV(cv=2, estimator=SVC(), n_jobs=4,\n",
       "             param_grid={&#x27;C&#x27;: [0.0, 0.05, 0.1, 0.15, 0.2, 0.25, 0.3, 0.35, 0.4,\n",
       "                               0.45, 0.5, 0.55, 0.6, 0.65, 0.7, 0.75, 0.8, 0.85,\n",
       "                               0.9, 0.95, 1.0, 1.2, 1.4, 1.6, 1.8, 2.0, 2.2,\n",
       "                               2.4, 2.6, 2.8],\n",
       "                         &#x27;gamma&#x27;: [&#x27;scale&#x27;], &#x27;kernel&#x27;: [&#x27;rbf&#x27;]},\n",
       "             verbose=2)</pre></div></div></div><div class=\"sk-parallel\"><div class=\"sk-parallel-item\"><div class=\"sk-item\"><div class=\"sk-label-container\"><div class=\"sk-label sk-toggleable\"><input class=\"sk-toggleable__control sk-hidden--visually\" id=\"sk-estimator-id-2\" type=\"checkbox\" ><label for=\"sk-estimator-id-2\" class=\"sk-toggleable__label sk-toggleable__label-arrow\">estimator: SVC</label><div class=\"sk-toggleable__content\"><pre>SVC()</pre></div></div></div><div class=\"sk-serial\"><div class=\"sk-item\"><div class=\"sk-estimator sk-toggleable\"><input class=\"sk-toggleable__control sk-hidden--visually\" id=\"sk-estimator-id-3\" type=\"checkbox\" ><label for=\"sk-estimator-id-3\" class=\"sk-toggleable__label sk-toggleable__label-arrow\">SVC</label><div class=\"sk-toggleable__content\"><pre>SVC()</pre></div></div></div></div></div></div></div></div></div></div>"
      ],
      "text/plain": [
       "GridSearchCV(cv=2, estimator=SVC(), n_jobs=4,\n",
       "             param_grid={'C': [0.0, 0.05, 0.1, 0.15, 0.2, 0.25, 0.3, 0.35, 0.4,\n",
       "                               0.45, 0.5, 0.55, 0.6, 0.65, 0.7, 0.75, 0.8, 0.85,\n",
       "                               0.9, 0.95, 1.0, 1.2, 1.4, 1.6, 1.8, 2.0, 2.2,\n",
       "                               2.4, 2.6, 2.8],\n",
       "                         'gamma': ['scale'], 'kernel': ['rbf']},\n",
       "             verbose=2)"
      ]
     },
     "execution_count": 52,
     "metadata": {},
     "output_type": "execute_result"
    }
   ],
   "source": [
    "grid_svm.fit(X_train,y_train)"
   ]
  },
  {
   "cell_type": "code",
   "execution_count": 53,
   "id": "02b804f2-a138-4490-8182-a893f02c86ec",
   "metadata": {},
   "outputs": [
    {
     "data": {
      "text/plain": [
       "{'C': 2.8, 'gamma': 'scale', 'kernel': 'rbf'}"
      ]
     },
     "execution_count": 53,
     "metadata": {},
     "output_type": "execute_result"
    }
   ],
   "source": [
    "grid_svm.best_params_"
   ]
  },
  {
   "cell_type": "code",
   "execution_count": 55,
   "id": "5444092a-8250-4c08-9e13-fcd0bb605cf1",
   "metadata": {},
   "outputs": [],
   "source": [
    "svm = SVC(gamma = 'scale', kernel = 'rbf')"
   ]
  },
  {
   "cell_type": "code",
   "execution_count": null,
   "id": "26fd2628-e3d8-482b-8748-33cf21d3f54e",
   "metadata": {},
   "outputs": [
    {
     "name": "stderr",
     "output_type": "stream",
     "text": [
      "C:\\logiciels\\anaconda3\\lib\\site-packages\\sklearn\\utils\\validation.py:1143: DataConversionWarning: A column-vector y was passed when a 1d array was expected. Please change the shape of y to (n_samples, ), for example using ravel().\n",
      "  y = column_or_1d(y, warn=True)\n",
      "C:\\logiciels\\anaconda3\\lib\\site-packages\\sklearn\\utils\\validation.py:1143: DataConversionWarning: A column-vector y was passed when a 1d array was expected. Please change the shape of y to (n_samples, ), for example using ravel().\n",
      "  y = column_or_1d(y, warn=True)\n",
      "C:\\logiciels\\anaconda3\\lib\\site-packages\\sklearn\\utils\\validation.py:1143: DataConversionWarning: A column-vector y was passed when a 1d array was expected. Please change the shape of y to (n_samples, ), for example using ravel().\n",
      "  y = column_or_1d(y, warn=True)\n",
      "C:\\logiciels\\anaconda3\\lib\\site-packages\\sklearn\\utils\\validation.py:1143: DataConversionWarning: A column-vector y was passed when a 1d array was expected. Please change the shape of y to (n_samples, ), for example using ravel().\n",
      "  y = column_or_1d(y, warn=True)\n",
      "C:\\logiciels\\anaconda3\\lib\\site-packages\\sklearn\\utils\\validation.py:1143: DataConversionWarning: A column-vector y was passed when a 1d array was expected. Please change the shape of y to (n_samples, ), for example using ravel().\n",
      "  y = column_or_1d(y, warn=True)\n",
      "C:\\logiciels\\anaconda3\\lib\\site-packages\\sklearn\\utils\\validation.py:1143: DataConversionWarning: A column-vector y was passed when a 1d array was expected. Please change the shape of y to (n_samples, ), for example using ravel().\n",
      "  y = column_or_1d(y, warn=True)\n",
      "C:\\logiciels\\anaconda3\\lib\\site-packages\\sklearn\\utils\\validation.py:1143: DataConversionWarning: A column-vector y was passed when a 1d array was expected. Please change the shape of y to (n_samples, ), for example using ravel().\n",
      "  y = column_or_1d(y, warn=True)\n",
      "C:\\logiciels\\anaconda3\\lib\\site-packages\\sklearn\\utils\\validation.py:1143: DataConversionWarning: A column-vector y was passed when a 1d array was expected. Please change the shape of y to (n_samples, ), for example using ravel().\n",
      "  y = column_or_1d(y, warn=True)\n",
      "C:\\logiciels\\anaconda3\\lib\\site-packages\\sklearn\\utils\\validation.py:1143: DataConversionWarning: A column-vector y was passed when a 1d array was expected. Please change the shape of y to (n_samples, ), for example using ravel().\n",
      "  y = column_or_1d(y, warn=True)\n",
      "C:\\logiciels\\anaconda3\\lib\\site-packages\\sklearn\\utils\\validation.py:1143: DataConversionWarning: A column-vector y was passed when a 1d array was expected. Please change the shape of y to (n_samples, ), for example using ravel().\n",
      "  y = column_or_1d(y, warn=True)\n",
      "C:\\logiciels\\anaconda3\\lib\\site-packages\\sklearn\\utils\\validation.py:1143: DataConversionWarning: A column-vector y was passed when a 1d array was expected. Please change the shape of y to (n_samples, ), for example using ravel().\n",
      "  y = column_or_1d(y, warn=True)\n",
      "C:\\logiciels\\anaconda3\\lib\\site-packages\\sklearn\\utils\\validation.py:1143: DataConversionWarning: A column-vector y was passed when a 1d array was expected. Please change the shape of y to (n_samples, ), for example using ravel().\n",
      "  y = column_or_1d(y, warn=True)\n",
      "C:\\logiciels\\anaconda3\\lib\\site-packages\\sklearn\\utils\\validation.py:1143: DataConversionWarning: A column-vector y was passed when a 1d array was expected. Please change the shape of y to (n_samples, ), for example using ravel().\n",
      "  y = column_or_1d(y, warn=True)\n",
      "C:\\logiciels\\anaconda3\\lib\\site-packages\\sklearn\\utils\\validation.py:1143: DataConversionWarning: A column-vector y was passed when a 1d array was expected. Please change the shape of y to (n_samples, ), for example using ravel().\n",
      "  y = column_or_1d(y, warn=True)\n",
      "C:\\logiciels\\anaconda3\\lib\\site-packages\\sklearn\\utils\\validation.py:1143: DataConversionWarning: A column-vector y was passed when a 1d array was expected. Please change the shape of y to (n_samples, ), for example using ravel().\n",
      "  y = column_or_1d(y, warn=True)\n",
      "C:\\logiciels\\anaconda3\\lib\\site-packages\\sklearn\\utils\\validation.py:1143: DataConversionWarning: A column-vector y was passed when a 1d array was expected. Please change the shape of y to (n_samples, ), for example using ravel().\n",
      "  y = column_or_1d(y, warn=True)\n",
      "C:\\logiciels\\anaconda3\\lib\\site-packages\\sklearn\\utils\\validation.py:1143: DataConversionWarning: A column-vector y was passed when a 1d array was expected. Please change the shape of y to (n_samples, ), for example using ravel().\n",
      "  y = column_or_1d(y, warn=True)\n",
      "C:\\logiciels\\anaconda3\\lib\\site-packages\\sklearn\\utils\\validation.py:1143: DataConversionWarning: A column-vector y was passed when a 1d array was expected. Please change the shape of y to (n_samples, ), for example using ravel().\n",
      "  y = column_or_1d(y, warn=True)\n",
      "C:\\logiciels\\anaconda3\\lib\\site-packages\\sklearn\\utils\\validation.py:1143: DataConversionWarning: A column-vector y was passed when a 1d array was expected. Please change the shape of y to (n_samples, ), for example using ravel().\n",
      "  y = column_or_1d(y, warn=True)\n",
      "C:\\logiciels\\anaconda3\\lib\\site-packages\\sklearn\\utils\\validation.py:1143: DataConversionWarning: A column-vector y was passed when a 1d array was expected. Please change the shape of y to (n_samples, ), for example using ravel().\n",
      "  y = column_or_1d(y, warn=True)\n",
      "C:\\logiciels\\anaconda3\\lib\\site-packages\\sklearn\\utils\\validation.py:1143: DataConversionWarning: A column-vector y was passed when a 1d array was expected. Please change the shape of y to (n_samples, ), for example using ravel().\n",
      "  y = column_or_1d(y, warn=True)\n",
      "C:\\logiciels\\anaconda3\\lib\\site-packages\\sklearn\\utils\\validation.py:1143: DataConversionWarning: A column-vector y was passed when a 1d array was expected. Please change the shape of y to (n_samples, ), for example using ravel().\n",
      "  y = column_or_1d(y, warn=True)\n",
      "C:\\logiciels\\anaconda3\\lib\\site-packages\\sklearn\\utils\\validation.py:1143: DataConversionWarning: A column-vector y was passed when a 1d array was expected. Please change the shape of y to (n_samples, ), for example using ravel().\n",
      "  y = column_or_1d(y, warn=True)\n",
      "C:\\logiciels\\anaconda3\\lib\\site-packages\\sklearn\\utils\\validation.py:1143: DataConversionWarning: A column-vector y was passed when a 1d array was expected. Please change the shape of y to (n_samples, ), for example using ravel().\n",
      "  y = column_or_1d(y, warn=True)\n",
      "C:\\logiciels\\anaconda3\\lib\\site-packages\\sklearn\\utils\\validation.py:1143: DataConversionWarning: A column-vector y was passed when a 1d array was expected. Please change the shape of y to (n_samples, ), for example using ravel().\n",
      "  y = column_or_1d(y, warn=True)\n",
      "C:\\logiciels\\anaconda3\\lib\\site-packages\\sklearn\\utils\\validation.py:1143: DataConversionWarning: A column-vector y was passed when a 1d array was expected. Please change the shape of y to (n_samples, ), for example using ravel().\n",
      "  y = column_or_1d(y, warn=True)\n",
      "C:\\logiciels\\anaconda3\\lib\\site-packages\\sklearn\\utils\\validation.py:1143: DataConversionWarning: A column-vector y was passed when a 1d array was expected. Please change the shape of y to (n_samples, ), for example using ravel().\n",
      "  y = column_or_1d(y, warn=True)\n",
      "C:\\logiciels\\anaconda3\\lib\\site-packages\\sklearn\\utils\\validation.py:1143: DataConversionWarning: A column-vector y was passed when a 1d array was expected. Please change the shape of y to (n_samples, ), for example using ravel().\n",
      "  y = column_or_1d(y, warn=True)\n",
      "C:\\logiciels\\anaconda3\\lib\\site-packages\\sklearn\\utils\\validation.py:1143: DataConversionWarning: A column-vector y was passed when a 1d array was expected. Please change the shape of y to (n_samples, ), for example using ravel().\n",
      "  y = column_or_1d(y, warn=True)\n",
      "C:\\logiciels\\anaconda3\\lib\\site-packages\\sklearn\\utils\\validation.py:1143: DataConversionWarning: A column-vector y was passed when a 1d array was expected. Please change the shape of y to (n_samples, ), for example using ravel().\n",
      "  y = column_or_1d(y, warn=True)\n",
      "C:\\logiciels\\anaconda3\\lib\\site-packages\\sklearn\\utils\\validation.py:1143: DataConversionWarning: A column-vector y was passed when a 1d array was expected. Please change the shape of y to (n_samples, ), for example using ravel().\n",
      "  y = column_or_1d(y, warn=True)\n",
      "C:\\logiciels\\anaconda3\\lib\\site-packages\\sklearn\\utils\\validation.py:1143: DataConversionWarning: A column-vector y was passed when a 1d array was expected. Please change the shape of y to (n_samples, ), for example using ravel().\n",
      "  y = column_or_1d(y, warn=True)\n",
      "C:\\logiciels\\anaconda3\\lib\\site-packages\\sklearn\\utils\\validation.py:1143: DataConversionWarning: A column-vector y was passed when a 1d array was expected. Please change the shape of y to (n_samples, ), for example using ravel().\n",
      "  y = column_or_1d(y, warn=True)\n",
      "C:\\logiciels\\anaconda3\\lib\\site-packages\\sklearn\\utils\\validation.py:1143: DataConversionWarning: A column-vector y was passed when a 1d array was expected. Please change the shape of y to (n_samples, ), for example using ravel().\n",
      "  y = column_or_1d(y, warn=True)\n",
      "C:\\logiciels\\anaconda3\\lib\\site-packages\\sklearn\\utils\\validation.py:1143: DataConversionWarning: A column-vector y was passed when a 1d array was expected. Please change the shape of y to (n_samples, ), for example using ravel().\n",
      "  y = column_or_1d(y, warn=True)\n",
      "C:\\logiciels\\anaconda3\\lib\\site-packages\\sklearn\\utils\\validation.py:1143: DataConversionWarning: A column-vector y was passed when a 1d array was expected. Please change the shape of y to (n_samples, ), for example using ravel().\n",
      "  y = column_or_1d(y, warn=True)\n",
      "C:\\logiciels\\anaconda3\\lib\\site-packages\\sklearn\\utils\\validation.py:1143: DataConversionWarning: A column-vector y was passed when a 1d array was expected. Please change the shape of y to (n_samples, ), for example using ravel().\n",
      "  y = column_or_1d(y, warn=True)\n"
     ]
    }
   ],
   "source": [
    "train_scores, val_scores = validation_curve(svm, X_train, y_train, param_name = \"C\",\n",
    "                                                     param_range = np.array(hp['SVM']['C']), cv = 2)\n",
    "    \n",
    "# curves \n",
    "plt.plot(np.array(hp['SVM']['C']), train_scores, 'y-', label = \"score à l\\'entrainement\")\n",
    "plt.plot(np.array(hp['SVM']['C']), val_scores, 'r-', label = \"score à la validation\")\n",
    "\n",
    "# Ajouter un titre et des légendes pour l'axe x et l'axe y\n",
    "plt.title('Précision de '+ type(svm).__name__ + ' en fonction de ' + 'C' ) # titre\n",
    "plt.xlabel('Valeurs de ' + 'C') # légende de l'axe des abscisses\n",
    "plt.ylabel('Valeurs de précision') # légende de l'axe des ordonées\n",
    "\n",
    "# légende\n",
    "plt.legend() \n",
    "plt.grid(True)\n",
    "\n",
    "# Sauvegarde des graphes\n",
    "plt.savefig('C.png', dpi = 300)\n",
    "\n",
    "#print('min22 :',df_month['value22'].max(),'\\nMin23 :', df_month['value23'].max())\n",
    "plt.show() # Affichage de la figure\n"
   ]
  },
  {
   "cell_type": "code",
   "execution_count": null,
   "id": "5dc704e5-4715-4d38-9a16-718ba4de21a2",
   "metadata": {},
   "outputs": [],
   "source": []
  },
  {
   "cell_type": "code",
   "execution_count": null,
   "id": "277e458e-2310-4c64-939e-61573e813ac3",
   "metadata": {},
   "outputs": [],
   "source": []
  },
  {
   "cell_type": "code",
   "execution_count": null,
   "id": "d72753e0-1cb0-47df-8a66-fba2ff37e238",
   "metadata": {},
   "outputs": [],
   "source": []
  },
  {
   "cell_type": "code",
   "execution_count": null,
   "id": "d7034ad8-a740-4f67-8d83-848ae21f454d",
   "metadata": {},
   "outputs": [],
   "source": []
  },
  {
   "cell_type": "code",
   "execution_count": null,
   "id": "2e3dd52c-1204-4ff8-b73a-74def0a22d4b",
   "metadata": {},
   "outputs": [],
   "source": []
  },
  {
   "cell_type": "code",
   "execution_count": null,
   "id": "52cc6a5e-a7f2-4e13-8066-b5b92e441071",
   "metadata": {},
   "outputs": [],
   "source": []
  },
  {
   "cell_type": "code",
   "execution_count": null,
   "id": "3a2e90c9-08a2-4fc5-baff-ad8c573a0ee4",
   "metadata": {},
   "outputs": [],
   "source": []
  },
  {
   "cell_type": "code",
   "execution_count": null,
   "id": "9856bc60-f278-4f82-8b04-474b61fa3013",
   "metadata": {},
   "outputs": [],
   "source": []
  },
  {
   "cell_type": "code",
   "execution_count": null,
   "id": "e6256261-5b9a-4bff-83e6-cd000d2f7b76",
   "metadata": {},
   "outputs": [],
   "source": []
  },
  {
   "cell_type": "code",
   "execution_count": null,
   "id": "f2ba472d-2000-46e5-9c5f-85c78d56a7cc",
   "metadata": {},
   "outputs": [],
   "source": []
  },
  {
   "cell_type": "code",
   "execution_count": null,
   "id": "bb04a9d0-6bd1-47f0-bf04-c7342589bd61",
   "metadata": {},
   "outputs": [],
   "source": []
  },
  {
   "cell_type": "code",
   "execution_count": null,
   "id": "3907e3d5-3db7-4140-a52f-6854e34d4e4f",
   "metadata": {},
   "outputs": [],
   "source": []
  },
  {
   "cell_type": "code",
   "execution_count": null,
   "id": "d094eabe-9cf3-4649-95e0-df10c7d3217f",
   "metadata": {},
   "outputs": [],
   "source": []
  },
  {
   "cell_type": "code",
   "execution_count": null,
   "id": "3fdcf418-3715-49d4-9900-76468bf37d45",
   "metadata": {},
   "outputs": [],
   "source": []
  },
  {
   "cell_type": "code",
   "execution_count": null,
   "id": "c4404f9c-46f0-4c83-af19-a8cbac11f576",
   "metadata": {},
   "outputs": [],
   "source": []
  },
  {
   "cell_type": "code",
   "execution_count": null,
   "id": "e99788d5-43bb-4a87-a39d-bda36bf924fa",
   "metadata": {},
   "outputs": [],
   "source": []
  },
  {
   "cell_type": "code",
   "execution_count": null,
   "id": "fa30f77f-5432-4572-9c18-a9d4cb6005a3",
   "metadata": {},
   "outputs": [],
   "source": []
  },
  {
   "cell_type": "code",
   "execution_count": null,
   "id": "6be04740-d8b4-4bfd-bb03-86afff1981a2",
   "metadata": {},
   "outputs": [],
   "source": []
  },
  {
   "cell_type": "code",
   "execution_count": null,
   "id": "eaa7012b-42a6-4469-9d66-5f97a0fbc44d",
   "metadata": {},
   "outputs": [],
   "source": []
  },
  {
   "cell_type": "code",
   "execution_count": null,
   "id": "bd00a6c9-7182-4b30-bbf1-ac95f4fd8924",
   "metadata": {},
   "outputs": [],
   "source": []
  },
  {
   "cell_type": "code",
   "execution_count": null,
   "id": "b92f8428-f6fa-4c90-8902-ca5044270340",
   "metadata": {},
   "outputs": [],
   "source": []
  },
  {
   "cell_type": "code",
   "execution_count": null,
   "id": "0161f546-4b4d-4469-a987-7ded9bf34e98",
   "metadata": {},
   "outputs": [],
   "source": []
  },
  {
   "cell_type": "code",
   "execution_count": null,
   "id": "e78ba3d4-b79d-4d0a-ab97-c3f0d0df7d4f",
   "metadata": {},
   "outputs": [],
   "source": []
  },
  {
   "cell_type": "code",
   "execution_count": null,
   "id": "64ef854d-65b9-4923-bd19-824c1d9ca327",
   "metadata": {},
   "outputs": [],
   "source": []
  },
  {
   "cell_type": "code",
   "execution_count": null,
   "id": "5e250b79-ccd5-44f7-a05a-f00b26f54d74",
   "metadata": {},
   "outputs": [],
   "source": []
  },
  {
   "cell_type": "code",
   "execution_count": null,
   "id": "ad9890ff-51db-460d-a1fe-b0041af17d04",
   "metadata": {},
   "outputs": [],
   "source": []
  },
  {
   "cell_type": "code",
   "execution_count": null,
   "id": "1a7b04c9-7140-4292-ba60-53b11293f812",
   "metadata": {},
   "outputs": [],
   "source": []
  },
  {
   "cell_type": "code",
   "execution_count": null,
   "id": "83825daf-83cf-4770-82ec-05457b403aee",
   "metadata": {},
   "outputs": [],
   "source": []
  },
  {
   "cell_type": "code",
   "execution_count": null,
   "id": "da2d1dee-9cd5-4599-b348-555588ee02ae",
   "metadata": {},
   "outputs": [],
   "source": []
  },
  {
   "cell_type": "code",
   "execution_count": null,
   "id": "801f51f8-f277-4b34-a4dd-ebe0dc542214",
   "metadata": {},
   "outputs": [],
   "source": []
  },
  {
   "cell_type": "code",
   "execution_count": null,
   "id": "5e6b069c-75c4-42e1-a2df-a0b7eee7b68d",
   "metadata": {},
   "outputs": [],
   "source": []
  },
  {
   "cell_type": "code",
   "execution_count": null,
   "id": "44e4e893-efa7-41fb-902c-d930d96a81d4",
   "metadata": {},
   "outputs": [],
   "source": []
  },
  {
   "cell_type": "code",
   "execution_count": null,
   "id": "b624d9b5-815c-4871-bf4f-63dcf049c86b",
   "metadata": {},
   "outputs": [],
   "source": []
  },
  {
   "cell_type": "code",
   "execution_count": null,
   "id": "7cdd471c-3a72-4406-bd27-3953dd755d67",
   "metadata": {},
   "outputs": [],
   "source": []
  },
  {
   "cell_type": "code",
   "execution_count": null,
   "id": "1af6e745-f788-4dc2-b6f7-ee70131df26f",
   "metadata": {},
   "outputs": [],
   "source": []
  },
  {
   "cell_type": "code",
   "execution_count": null,
   "id": "4cf9a323-12a4-4d2a-bf39-6facc318acd3",
   "metadata": {},
   "outputs": [],
   "source": []
  },
  {
   "cell_type": "code",
   "execution_count": null,
   "id": "9b9f086e-206d-47b6-b739-adb771ce6bb9",
   "metadata": {},
   "outputs": [],
   "source": []
  },
  {
   "cell_type": "code",
   "execution_count": null,
   "id": "387e9078-7730-44b0-9d4d-2593e15c1752",
   "metadata": {},
   "outputs": [],
   "source": []
  },
  {
   "cell_type": "code",
   "execution_count": null,
   "id": "b02c30d9-434b-4b7e-8a57-7c44f510306c",
   "metadata": {},
   "outputs": [],
   "source": []
  },
  {
   "cell_type": "code",
   "execution_count": null,
   "id": "d476f511-39b7-456f-a785-93e45e632205",
   "metadata": {},
   "outputs": [],
   "source": []
  },
  {
   "cell_type": "code",
   "execution_count": null,
   "id": "11c36321-f5ab-4b5d-896c-13ef8118407e",
   "metadata": {},
   "outputs": [],
   "source": []
  },
  {
   "cell_type": "code",
   "execution_count": null,
   "id": "c4b9627f-183a-47d3-969e-0d5904555652",
   "metadata": {},
   "outputs": [],
   "source": []
  },
  {
   "cell_type": "code",
   "execution_count": null,
   "id": "4acbd245-0579-4c3c-9fc2-4a8b18c43537",
   "metadata": {},
   "outputs": [],
   "source": []
  },
  {
   "cell_type": "code",
   "execution_count": null,
   "id": "040ba708-64c1-43f2-a324-8b785f745713",
   "metadata": {},
   "outputs": [],
   "source": []
  },
  {
   "cell_type": "code",
   "execution_count": null,
   "id": "518f60c5-bc98-40e6-8843-3d088aa2d64e",
   "metadata": {},
   "outputs": [],
   "source": []
  },
  {
   "cell_type": "code",
   "execution_count": null,
   "id": "859c6042-7fa0-40aa-a877-f46953cf7420",
   "metadata": {},
   "outputs": [],
   "source": []
  },
  {
   "cell_type": "code",
   "execution_count": null,
   "id": "0852935e-14a3-43bb-ac1f-392d084a9191",
   "metadata": {},
   "outputs": [],
   "source": []
  },
  {
   "cell_type": "code",
   "execution_count": null,
   "id": "b86151df-8bf9-4e90-9b93-ac4020872ae2",
   "metadata": {},
   "outputs": [],
   "source": []
  },
  {
   "cell_type": "code",
   "execution_count": null,
   "id": "a116a3dd-154f-485a-a6c0-64014d3feab1",
   "metadata": {},
   "outputs": [],
   "source": []
  },
  {
   "cell_type": "code",
   "execution_count": null,
   "id": "225b6208-102b-485a-ac64-5e37da6c6ad5",
   "metadata": {},
   "outputs": [],
   "source": []
  },
  {
   "cell_type": "code",
   "execution_count": null,
   "id": "ffb684fe-2b2b-42a6-a010-35cb3fce9f09",
   "metadata": {
    "tags": []
   },
   "outputs": [],
   "source": [
    "train_scores, val_scores = validation_curve(rf, X_train, y_train, param_name = 'n_estimators',\n",
    "                                            param_range = np.array(neighbors), cv = 7)"
   ]
  },
  {
   "cell_type": "code",
   "execution_count": 21,
   "id": "48c71ee4-3f4f-4e64-b5d7-99d3dea1c17f",
   "metadata": {
    "tags": []
   },
   "outputs": [],
   "source": []
  },
  {
   "cell_type": "code",
   "execution_count": null,
   "id": "1eea84b4-b9c3-47a5-a93a-9f698f606dd6",
   "metadata": {
    "tags": []
   },
   "outputs": [],
   "source": [
    "plt.figure(figsize = (14,10))\n",
    "plt.plot(np.array(neighbors), train_scores, 'y+', label = \"score à l\\'entrainement\")\n",
    "#plt.plot(np.array(neighbors), val_scores, 'r-', label = \"score à la validation\")\n",
    "plt.show()"
   ]
  },
  {
   "cell_type": "code",
   "execution_count": null,
   "id": "d60657fa-faa9-4935-838b-9b8589f3d4f2",
   "metadata": {
    "tags": []
   },
   "outputs": [],
   "source": [
    "plot_validation_curves('RandomForest',X_train, y_train, 'max_depth', depth, 5)"
   ]
  },
  {
   "cell_type": "code",
   "execution_count": null,
   "id": "ef9f73bd-9fc9-4627-af50-fd26ba9ae279",
   "metadata": {},
   "outputs": [],
   "source": []
  }
 ],
 "metadata": {
  "kernelspec": {
   "display_name": "Python 3 (ipykernel)",
   "language": "python",
   "name": "python3"
  },
  "language_info": {
   "codemirror_mode": {
    "name": "ipython",
    "version": 3
   },
   "file_extension": ".py",
   "mimetype": "text/x-python",
   "name": "python",
   "nbconvert_exporter": "python",
   "pygments_lexer": "ipython3",
   "version": "3.10.9"
  }
 },
 "nbformat": 4,
 "nbformat_minor": 5
}
